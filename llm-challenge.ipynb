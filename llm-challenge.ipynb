{
 "cells": [
  {
   "cell_type": "code",
   "execution_count": 1,
   "id": "411219b5",
   "metadata": {
    "_cell_guid": "b1076dfc-b9ad-4769-8c92-a6c4dae69d19",
    "_uuid": "8f2839f25d086af736a60e9eeb907d3b93b6e0e5",
    "execution": {
     "iopub.execute_input": "2023-11-10T22:09:43.900535Z",
     "iopub.status.busy": "2023-11-10T22:09:43.899826Z",
     "iopub.status.idle": "2023-11-10T22:09:44.347663Z",
     "shell.execute_reply": "2023-11-10T22:09:44.345846Z"
    },
    "papermill": {
     "duration": 0.457264,
     "end_time": "2023-11-10T22:09:44.351588",
     "exception": false,
     "start_time": "2023-11-10T22:09:43.894324",
     "status": "completed"
    },
    "tags": []
   },
   "outputs": [
    {
     "name": "stdout",
     "output_type": "stream",
     "text": [
      "/kaggle/input/llm-detect-ai-generated-text/sample_submission.csv\n",
      "/kaggle/input/llm-detect-ai-generated-text/train_prompts.csv\n",
      "/kaggle/input/llm-detect-ai-generated-text/test_essays.csv\n",
      "/kaggle/input/llm-detect-ai-generated-text/train_essays.csv\n"
     ]
    }
   ],
   "source": [
    "# This Python 3 environment comes with many helpful analytics libraries installed\n",
    "# It is defined by the kaggle/python Docker image: https://github.com/kaggle/docker-python\n",
    "# For example, here's several helpful packages to load\n",
    "\n",
    "import numpy as np # linear algebra\n",
    "import pandas as pd # data processing, CSV file I/O (e.g. pd.read_csv)\n",
    "\n",
    "# Input data files are available in the read-only \"../input/\" directory\n",
    "# For example, running this (by clicking run or pressing Shift+Enter) will list all files under the input directory\n",
    "\n",
    "import os\n",
    "for dirname, _, filenames in os.walk('/kaggle/input'):\n",
    "    for filename in filenames:\n",
    "        print(os.path.join(dirname, filename))\n",
    "\n",
    "# You can write up to 20GB to the current directory (/kaggle/working/) that gets preserved as output when you create a version using \"Save & Run All\" \n",
    "# You can also write temporary files to /kaggle/temp/, but they won't be saved outside of the current session"
   ]
  },
  {
   "cell_type": "code",
   "execution_count": 2,
   "id": "32cf0ef1",
   "metadata": {
    "execution": {
     "iopub.execute_input": "2023-11-10T22:09:44.364550Z",
     "iopub.status.busy": "2023-11-10T22:09:44.363992Z",
     "iopub.status.idle": "2023-11-10T22:09:44.480088Z",
     "shell.execute_reply": "2023-11-10T22:09:44.479211Z"
    },
    "papermill": {
     "duration": 0.124971,
     "end_time": "2023-11-10T22:09:44.482813",
     "exception": false,
     "start_time": "2023-11-10T22:09:44.357842",
     "status": "completed"
    },
    "tags": []
   },
   "outputs": [],
   "source": [
    "#File path\n",
    "FILE_PATH='/kaggle/input/llm-detect-ai-generated-text'\n",
    "\n",
    "#Reading files\n",
    "df_text=pd.read_csv(os.path.join(FILE_PATH,'train_essays.csv'))\n",
    "df_prompt=pd.read_csv(os.path.join(FILE_PATH,'train_prompts.csv'))"
   ]
  },
  {
   "cell_type": "code",
   "execution_count": 3,
   "id": "37726a35",
   "metadata": {
    "execution": {
     "iopub.execute_input": "2023-11-10T22:09:44.491576Z",
     "iopub.status.busy": "2023-11-10T22:09:44.491186Z",
     "iopub.status.idle": "2023-11-10T22:09:44.523620Z",
     "shell.execute_reply": "2023-11-10T22:09:44.522655Z"
    },
    "papermill": {
     "duration": 0.039934,
     "end_time": "2023-11-10T22:09:44.526449",
     "exception": false,
     "start_time": "2023-11-10T22:09:44.486515",
     "status": "completed"
    },
    "tags": []
   },
   "outputs": [],
   "source": [
    "#The training set...\n",
    "df_train=pd.merge(df_text,df_prompt,how='inner').drop(['prompt_id','id','source_text'],axis=1)"
   ]
  },
  {
   "cell_type": "code",
   "execution_count": 4,
   "id": "dd12ef4e",
   "metadata": {
    "execution": {
     "iopub.execute_input": "2023-11-10T22:09:44.537077Z",
     "iopub.status.busy": "2023-11-10T22:09:44.535386Z",
     "iopub.status.idle": "2023-11-10T22:09:44.556245Z",
     "shell.execute_reply": "2023-11-10T22:09:44.555392Z"
    },
    "papermill": {
     "duration": 0.029026,
     "end_time": "2023-11-10T22:09:44.559274",
     "exception": false,
     "start_time": "2023-11-10T22:09:44.530248",
     "status": "completed"
    },
    "tags": []
   },
   "outputs": [
    {
     "data": {
      "text/html": [
       "<div>\n",
       "<style scoped>\n",
       "    .dataframe tbody tr th:only-of-type {\n",
       "        vertical-align: middle;\n",
       "    }\n",
       "\n",
       "    .dataframe tbody tr th {\n",
       "        vertical-align: top;\n",
       "    }\n",
       "\n",
       "    .dataframe thead th {\n",
       "        text-align: right;\n",
       "    }\n",
       "</style>\n",
       "<table border=\"1\" class=\"dataframe\">\n",
       "  <thead>\n",
       "    <tr style=\"text-align: right;\">\n",
       "      <th></th>\n",
       "      <th>text</th>\n",
       "      <th>generated</th>\n",
       "      <th>prompt_name</th>\n",
       "      <th>instructions</th>\n",
       "    </tr>\n",
       "  </thead>\n",
       "  <tbody>\n",
       "    <tr>\n",
       "      <th>0</th>\n",
       "      <td>Cars. Cars have been around since they became ...</td>\n",
       "      <td>0</td>\n",
       "      <td>Car-free cities</td>\n",
       "      <td>Write an explanatory essay to inform fellow ci...</td>\n",
       "    </tr>\n",
       "    <tr>\n",
       "      <th>1</th>\n",
       "      <td>Transportation is a large necessity in most co...</td>\n",
       "      <td>0</td>\n",
       "      <td>Car-free cities</td>\n",
       "      <td>Write an explanatory essay to inform fellow ci...</td>\n",
       "    </tr>\n",
       "    <tr>\n",
       "      <th>2</th>\n",
       "      <td>\"America's love affair with it's vehicles seem...</td>\n",
       "      <td>0</td>\n",
       "      <td>Car-free cities</td>\n",
       "      <td>Write an explanatory essay to inform fellow ci...</td>\n",
       "    </tr>\n",
       "    <tr>\n",
       "      <th>3</th>\n",
       "      <td>How often do you ride in a car? Do you drive a...</td>\n",
       "      <td>0</td>\n",
       "      <td>Car-free cities</td>\n",
       "      <td>Write an explanatory essay to inform fellow ci...</td>\n",
       "    </tr>\n",
       "    <tr>\n",
       "      <th>4</th>\n",
       "      <td>Cars are a wonderful thing. They are perhaps o...</td>\n",
       "      <td>0</td>\n",
       "      <td>Car-free cities</td>\n",
       "      <td>Write an explanatory essay to inform fellow ci...</td>\n",
       "    </tr>\n",
       "    <tr>\n",
       "      <th>...</th>\n",
       "      <td>...</td>\n",
       "      <td>...</td>\n",
       "      <td>...</td>\n",
       "      <td>...</td>\n",
       "    </tr>\n",
       "    <tr>\n",
       "      <th>1373</th>\n",
       "      <td>The Electoral College was originally establish...</td>\n",
       "      <td>0</td>\n",
       "      <td>Does the electoral college work?</td>\n",
       "      <td>Write a letter to your state senator in which ...</td>\n",
       "    </tr>\n",
       "    <tr>\n",
       "      <th>1374</th>\n",
       "      <td>Dear senator, I think that the presidential el...</td>\n",
       "      <td>0</td>\n",
       "      <td>Does the electoral college work?</td>\n",
       "      <td>Write a letter to your state senator in which ...</td>\n",
       "    </tr>\n",
       "    <tr>\n",
       "      <th>1375</th>\n",
       "      <td>The electoral college is a group of electors t...</td>\n",
       "      <td>0</td>\n",
       "      <td>Does the electoral college work?</td>\n",
       "      <td>Write a letter to your state senator in which ...</td>\n",
       "    </tr>\n",
       "    <tr>\n",
       "      <th>1376</th>\n",
       "      <td>An electoral College compromises between elect...</td>\n",
       "      <td>0</td>\n",
       "      <td>Does the electoral college work?</td>\n",
       "      <td>Write a letter to your state senator in which ...</td>\n",
       "    </tr>\n",
       "    <tr>\n",
       "      <th>1377</th>\n",
       "      <td>There has been a fuss about the Elector Colleg...</td>\n",
       "      <td>0</td>\n",
       "      <td>Does the electoral college work?</td>\n",
       "      <td>Write a letter to your state senator in which ...</td>\n",
       "    </tr>\n",
       "  </tbody>\n",
       "</table>\n",
       "<p>1378 rows × 4 columns</p>\n",
       "</div>"
      ],
      "text/plain": [
       "                                                   text  generated  \\\n",
       "0     Cars. Cars have been around since they became ...          0   \n",
       "1     Transportation is a large necessity in most co...          0   \n",
       "2     \"America's love affair with it's vehicles seem...          0   \n",
       "3     How often do you ride in a car? Do you drive a...          0   \n",
       "4     Cars are a wonderful thing. They are perhaps o...          0   \n",
       "...                                                 ...        ...   \n",
       "1373  The Electoral College was originally establish...          0   \n",
       "1374  Dear senator, I think that the presidential el...          0   \n",
       "1375  The electoral college is a group of electors t...          0   \n",
       "1376  An electoral College compromises between elect...          0   \n",
       "1377  There has been a fuss about the Elector Colleg...          0   \n",
       "\n",
       "                           prompt_name  \\\n",
       "0                      Car-free cities   \n",
       "1                      Car-free cities   \n",
       "2                      Car-free cities   \n",
       "3                      Car-free cities   \n",
       "4                      Car-free cities   \n",
       "...                                ...   \n",
       "1373  Does the electoral college work?   \n",
       "1374  Does the electoral college work?   \n",
       "1375  Does the electoral college work?   \n",
       "1376  Does the electoral college work?   \n",
       "1377  Does the electoral college work?   \n",
       "\n",
       "                                           instructions  \n",
       "0     Write an explanatory essay to inform fellow ci...  \n",
       "1     Write an explanatory essay to inform fellow ci...  \n",
       "2     Write an explanatory essay to inform fellow ci...  \n",
       "3     Write an explanatory essay to inform fellow ci...  \n",
       "4     Write an explanatory essay to inform fellow ci...  \n",
       "...                                                 ...  \n",
       "1373  Write a letter to your state senator in which ...  \n",
       "1374  Write a letter to your state senator in which ...  \n",
       "1375  Write a letter to your state senator in which ...  \n",
       "1376  Write a letter to your state senator in which ...  \n",
       "1377  Write a letter to your state senator in which ...  \n",
       "\n",
       "[1378 rows x 4 columns]"
      ]
     },
     "execution_count": 4,
     "metadata": {},
     "output_type": "execute_result"
    }
   ],
   "source": [
    "df_train"
   ]
  },
  {
   "cell_type": "code",
   "execution_count": 5,
   "id": "9d554caf",
   "metadata": {
    "execution": {
     "iopub.execute_input": "2023-11-10T22:09:44.572825Z",
     "iopub.status.busy": "2023-11-10T22:09:44.571613Z",
     "iopub.status.idle": "2023-11-10T22:10:01.689317Z",
     "shell.execute_reply": "2023-11-10T22:10:01.688000Z"
    },
    "papermill": {
     "duration": 17.127319,
     "end_time": "2023-11-10T22:10:01.692001",
     "exception": false,
     "start_time": "2023-11-10T22:09:44.564682",
     "status": "completed"
    },
    "tags": []
   },
   "outputs": [],
   "source": [
    "# Tensorflow imports\n",
    "import tensorflow as tf\n",
    "import tensorflow_hub as hub\n",
    "import tensorflow_text as text\n",
    "import matplotlib.pyplot as plt\n",
    "tf.get_logger().setLevel('ERROR')\n",
    "\n",
    "\n",
    "#Model Definition\n",
    "bert_model_name = 'small_bert/bert_en_uncased_L-4_H-512_A-8'\n",
    "tfhub_handle_encoder='https://tfhub.dev/tensorflow/small_bert/bert_en_uncased_L-4_H-512_A-8/1'\n",
    "tfhub_handle_preprocess='https://tfhub.dev/tensorflow/bert_en_uncased_preprocess/3'\n",
    "\n",
    "#Model Loading and testing\n",
    "bert_preprocess_model = hub.KerasLayer(tfhub_handle_preprocess)"
   ]
  },
  {
   "cell_type": "code",
   "execution_count": 6,
   "id": "e804ea64",
   "metadata": {
    "execution": {
     "iopub.execute_input": "2023-11-10T22:10:01.701705Z",
     "iopub.status.busy": "2023-11-10T22:10:01.701287Z",
     "iopub.status.idle": "2023-11-10T22:10:01.934529Z",
     "shell.execute_reply": "2023-11-10T22:10:01.933195Z"
    },
    "papermill": {
     "duration": 0.241484,
     "end_time": "2023-11-10T22:10:01.937550",
     "exception": false,
     "start_time": "2023-11-10T22:10:01.696066",
     "status": "completed"
    },
    "tags": []
   },
   "outputs": [
    {
     "name": "stdout",
     "output_type": "stream",
     "text": [
      "Keys       : ['input_mask', 'input_word_ids', 'input_type_ids']\n",
      "Shape      : (1, 128)\n",
      "Word Ids   : [ 101 1045 2215 2000 5438 2006 2115 4167  102    0    0    0]\n",
      "Input Mask : [1 1 1 1 1 1 1 1 1 0 0 0]\n",
      "Type Ids   : [0 0 0 0 0 0 0 0 0 0 0 0]\n"
     ]
    }
   ],
   "source": [
    "#Model testing\n",
    "text_test = ['I want to feed on your brain']\n",
    "text_preprocessed = bert_preprocess_model(text_test)\n",
    "print(f'Keys       : {list(text_preprocessed.keys())}')\n",
    "print(f'Shape      : {text_preprocessed[\"input_word_ids\"].shape}')\n",
    "print(f'Word Ids   : {text_preprocessed[\"input_word_ids\"][0, :12]}')\n",
    "print(f'Input Mask : {text_preprocessed[\"input_mask\"][0, :12]}')\n",
    "print(f'Type Ids   : {text_preprocessed[\"input_type_ids\"][0, :12]}')"
   ]
  },
  {
   "cell_type": "code",
   "execution_count": null,
   "id": "4614a746",
   "metadata": {
    "execution": {
     "iopub.execute_input": "2023-11-10T22:05:40.098201Z",
     "iopub.status.busy": "2023-11-10T22:05:40.097734Z",
     "iopub.status.idle": "2023-11-10T22:05:40.109301Z",
     "shell.execute_reply": "2023-11-10T22:05:40.108372Z",
     "shell.execute_reply.started": "2023-11-10T22:05:40.098166Z"
    },
    "papermill": {
     "duration": 0.003779,
     "end_time": "2023-11-10T22:10:01.945424",
     "exception": false,
     "start_time": "2023-11-10T22:10:01.941645",
     "status": "completed"
    },
    "tags": []
   },
   "outputs": [],
   "source": []
  }
 ],
 "metadata": {
  "kernelspec": {
   "display_name": "Python 3",
   "language": "python",
   "name": "python3"
  },
  "language_info": {
   "codemirror_mode": {
    "name": "ipython",
    "version": 3
   },
   "file_extension": ".py",
   "mimetype": "text/x-python",
   "name": "python",
   "nbconvert_exporter": "python",
   "pygments_lexer": "ipython3",
   "version": "3.10.12"
  },
  "papermill": {
   "default_parameters": {},
   "duration": 23.210428,
   "end_time": "2023-11-10T22:10:03.675119",
   "environment_variables": {},
   "exception": null,
   "input_path": "__notebook__.ipynb",
   "output_path": "__notebook__.ipynb",
   "parameters": {},
   "start_time": "2023-11-10T22:09:40.464691",
   "version": "2.4.0"
  }
 },
 "nbformat": 4,
 "nbformat_minor": 5
}
