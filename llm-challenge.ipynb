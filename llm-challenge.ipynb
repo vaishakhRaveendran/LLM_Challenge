{
 "cells": [
  {
   "cell_type": "code",
   "execution_count": 1,
   "id": "cee1478f",
   "metadata": {
    "_cell_guid": "b1076dfc-b9ad-4769-8c92-a6c4dae69d19",
    "_uuid": "8f2839f25d086af736a60e9eeb907d3b93b6e0e5",
    "execution": {
     "iopub.execute_input": "2023-11-10T22:22:14.179373Z",
     "iopub.status.busy": "2023-11-10T22:22:14.178541Z",
     "iopub.status.idle": "2023-11-10T22:22:15.004749Z",
     "shell.execute_reply": "2023-11-10T22:22:15.003111Z"
    },
    "papermill": {
     "duration": 0.835958,
     "end_time": "2023-11-10T22:22:15.007753",
     "exception": false,
     "start_time": "2023-11-10T22:22:14.171795",
     "status": "completed"
    },
    "tags": []
   },
   "outputs": [
    {
     "name": "stdout",
     "output_type": "stream",
     "text": [
      "/kaggle/input/llm-detect-ai-generated-text/sample_submission.csv\n",
      "/kaggle/input/llm-detect-ai-generated-text/train_prompts.csv\n",
      "/kaggle/input/llm-detect-ai-generated-text/test_essays.csv\n",
      "/kaggle/input/llm-detect-ai-generated-text/train_essays.csv\n"
     ]
    }
   ],
   "source": [
    "# This Python 3 environment comes with many helpful analytics libraries installed\n",
    "# It is defined by the kaggle/python Docker image: https://github.com/kaggle/docker-python\n",
    "# For example, here's several helpful packages to load\n",
    "\n",
    "import numpy as np # linear algebra\n",
    "import pandas as pd # data processing, CSV file I/O (e.g. pd.read_csv)\n",
    "\n",
    "# Input data files are available in the read-only \"../input/\" directory\n",
    "# For example, running this (by clicking run or pressing Shift+Enter) will list all files under the input directory\n",
    "\n",
    "import os\n",
    "for dirname, _, filenames in os.walk('/kaggle/input'):\n",
    "    for filename in filenames:\n",
    "        print(os.path.join(dirname, filename))\n",
    "\n",
    "# You can write up to 20GB to the current directory (/kaggle/working/) that gets preserved as output when you create a version using \"Save & Run All\" \n",
    "# You can also write temporary files to /kaggle/temp/, but they won't be saved outside of the current session"
   ]
  },
  {
   "cell_type": "code",
   "execution_count": 2,
   "id": "43935699",
   "metadata": {
    "execution": {
     "iopub.execute_input": "2023-11-10T22:22:15.018699Z",
     "iopub.status.busy": "2023-11-10T22:22:15.018039Z",
     "iopub.status.idle": "2023-11-10T22:22:15.132026Z",
     "shell.execute_reply": "2023-11-10T22:22:15.130868Z"
    },
    "papermill": {
     "duration": 0.122658,
     "end_time": "2023-11-10T22:22:15.134989",
     "exception": false,
     "start_time": "2023-11-10T22:22:15.012331",
     "status": "completed"
    },
    "tags": []
   },
   "outputs": [],
   "source": [
    "#File path\n",
    "FILE_PATH='/kaggle/input/llm-detect-ai-generated-text'\n",
    "\n",
    "#Reading files\n",
    "df_text=pd.read_csv(os.path.join(FILE_PATH,'train_essays.csv'))\n",
    "df_prompt=pd.read_csv(os.path.join(FILE_PATH,'train_prompts.csv'))"
   ]
  },
  {
   "cell_type": "code",
   "execution_count": 3,
   "id": "728a3545",
   "metadata": {
    "execution": {
     "iopub.execute_input": "2023-11-10T22:22:15.145131Z",
     "iopub.status.busy": "2023-11-10T22:22:15.144716Z",
     "iopub.status.idle": "2023-11-10T22:22:15.179236Z",
     "shell.execute_reply": "2023-11-10T22:22:15.177795Z"
    },
    "papermill": {
     "duration": 0.043234,
     "end_time": "2023-11-10T22:22:15.182500",
     "exception": false,
     "start_time": "2023-11-10T22:22:15.139266",
     "status": "completed"
    },
    "tags": []
   },
   "outputs": [],
   "source": [
    "#The training set...\n",
    "df_train=pd.merge(df_text,df_prompt,how='inner').drop(['prompt_id','id','source_text'],axis=1)"
   ]
  },
  {
   "cell_type": "code",
   "execution_count": 4,
   "id": "00c1cae6",
   "metadata": {
    "execution": {
     "iopub.execute_input": "2023-11-10T22:22:15.193032Z",
     "iopub.status.busy": "2023-11-10T22:22:15.192551Z",
     "iopub.status.idle": "2023-11-10T22:22:15.214654Z",
     "shell.execute_reply": "2023-11-10T22:22:15.213458Z"
    },
    "papermill": {
     "duration": 0.030518,
     "end_time": "2023-11-10T22:22:15.217318",
     "exception": false,
     "start_time": "2023-11-10T22:22:15.186800",
     "status": "completed"
    },
    "tags": []
   },
   "outputs": [
    {
     "data": {
      "text/html": [
       "<div>\n",
       "<style scoped>\n",
       "    .dataframe tbody tr th:only-of-type {\n",
       "        vertical-align: middle;\n",
       "    }\n",
       "\n",
       "    .dataframe tbody tr th {\n",
       "        vertical-align: top;\n",
       "    }\n",
       "\n",
       "    .dataframe thead th {\n",
       "        text-align: right;\n",
       "    }\n",
       "</style>\n",
       "<table border=\"1\" class=\"dataframe\">\n",
       "  <thead>\n",
       "    <tr style=\"text-align: right;\">\n",
       "      <th></th>\n",
       "      <th>text</th>\n",
       "      <th>generated</th>\n",
       "      <th>prompt_name</th>\n",
       "      <th>instructions</th>\n",
       "    </tr>\n",
       "  </thead>\n",
       "  <tbody>\n",
       "    <tr>\n",
       "      <th>0</th>\n",
       "      <td>Cars. Cars have been around since they became ...</td>\n",
       "      <td>0</td>\n",
       "      <td>Car-free cities</td>\n",
       "      <td>Write an explanatory essay to inform fellow ci...</td>\n",
       "    </tr>\n",
       "    <tr>\n",
       "      <th>1</th>\n",
       "      <td>Transportation is a large necessity in most co...</td>\n",
       "      <td>0</td>\n",
       "      <td>Car-free cities</td>\n",
       "      <td>Write an explanatory essay to inform fellow ci...</td>\n",
       "    </tr>\n",
       "    <tr>\n",
       "      <th>2</th>\n",
       "      <td>\"America's love affair with it's vehicles seem...</td>\n",
       "      <td>0</td>\n",
       "      <td>Car-free cities</td>\n",
       "      <td>Write an explanatory essay to inform fellow ci...</td>\n",
       "    </tr>\n",
       "    <tr>\n",
       "      <th>3</th>\n",
       "      <td>How often do you ride in a car? Do you drive a...</td>\n",
       "      <td>0</td>\n",
       "      <td>Car-free cities</td>\n",
       "      <td>Write an explanatory essay to inform fellow ci...</td>\n",
       "    </tr>\n",
       "    <tr>\n",
       "      <th>4</th>\n",
       "      <td>Cars are a wonderful thing. They are perhaps o...</td>\n",
       "      <td>0</td>\n",
       "      <td>Car-free cities</td>\n",
       "      <td>Write an explanatory essay to inform fellow ci...</td>\n",
       "    </tr>\n",
       "    <tr>\n",
       "      <th>...</th>\n",
       "      <td>...</td>\n",
       "      <td>...</td>\n",
       "      <td>...</td>\n",
       "      <td>...</td>\n",
       "    </tr>\n",
       "    <tr>\n",
       "      <th>1373</th>\n",
       "      <td>The Electoral College was originally establish...</td>\n",
       "      <td>0</td>\n",
       "      <td>Does the electoral college work?</td>\n",
       "      <td>Write a letter to your state senator in which ...</td>\n",
       "    </tr>\n",
       "    <tr>\n",
       "      <th>1374</th>\n",
       "      <td>Dear senator, I think that the presidential el...</td>\n",
       "      <td>0</td>\n",
       "      <td>Does the electoral college work?</td>\n",
       "      <td>Write a letter to your state senator in which ...</td>\n",
       "    </tr>\n",
       "    <tr>\n",
       "      <th>1375</th>\n",
       "      <td>The electoral college is a group of electors t...</td>\n",
       "      <td>0</td>\n",
       "      <td>Does the electoral college work?</td>\n",
       "      <td>Write a letter to your state senator in which ...</td>\n",
       "    </tr>\n",
       "    <tr>\n",
       "      <th>1376</th>\n",
       "      <td>An electoral College compromises between elect...</td>\n",
       "      <td>0</td>\n",
       "      <td>Does the electoral college work?</td>\n",
       "      <td>Write a letter to your state senator in which ...</td>\n",
       "    </tr>\n",
       "    <tr>\n",
       "      <th>1377</th>\n",
       "      <td>There has been a fuss about the Elector Colleg...</td>\n",
       "      <td>0</td>\n",
       "      <td>Does the electoral college work?</td>\n",
       "      <td>Write a letter to your state senator in which ...</td>\n",
       "    </tr>\n",
       "  </tbody>\n",
       "</table>\n",
       "<p>1378 rows × 4 columns</p>\n",
       "</div>"
      ],
      "text/plain": [
       "                                                   text  generated  \\\n",
       "0     Cars. Cars have been around since they became ...          0   \n",
       "1     Transportation is a large necessity in most co...          0   \n",
       "2     \"America's love affair with it's vehicles seem...          0   \n",
       "3     How often do you ride in a car? Do you drive a...          0   \n",
       "4     Cars are a wonderful thing. They are perhaps o...          0   \n",
       "...                                                 ...        ...   \n",
       "1373  The Electoral College was originally establish...          0   \n",
       "1374  Dear senator, I think that the presidential el...          0   \n",
       "1375  The electoral college is a group of electors t...          0   \n",
       "1376  An electoral College compromises between elect...          0   \n",
       "1377  There has been a fuss about the Elector Colleg...          0   \n",
       "\n",
       "                           prompt_name  \\\n",
       "0                      Car-free cities   \n",
       "1                      Car-free cities   \n",
       "2                      Car-free cities   \n",
       "3                      Car-free cities   \n",
       "4                      Car-free cities   \n",
       "...                                ...   \n",
       "1373  Does the electoral college work?   \n",
       "1374  Does the electoral college work?   \n",
       "1375  Does the electoral college work?   \n",
       "1376  Does the electoral college work?   \n",
       "1377  Does the electoral college work?   \n",
       "\n",
       "                                           instructions  \n",
       "0     Write an explanatory essay to inform fellow ci...  \n",
       "1     Write an explanatory essay to inform fellow ci...  \n",
       "2     Write an explanatory essay to inform fellow ci...  \n",
       "3     Write an explanatory essay to inform fellow ci...  \n",
       "4     Write an explanatory essay to inform fellow ci...  \n",
       "...                                                 ...  \n",
       "1373  Write a letter to your state senator in which ...  \n",
       "1374  Write a letter to your state senator in which ...  \n",
       "1375  Write a letter to your state senator in which ...  \n",
       "1376  Write a letter to your state senator in which ...  \n",
       "1377  Write a letter to your state senator in which ...  \n",
       "\n",
       "[1378 rows x 4 columns]"
      ]
     },
     "execution_count": 4,
     "metadata": {},
     "output_type": "execute_result"
    }
   ],
   "source": [
    "df_train"
   ]
  },
  {
   "cell_type": "code",
   "execution_count": 5,
   "id": "84eaa8d3",
   "metadata": {
    "execution": {
     "iopub.execute_input": "2023-11-10T22:22:15.228151Z",
     "iopub.status.busy": "2023-11-10T22:22:15.227771Z",
     "iopub.status.idle": "2023-11-10T22:22:45.653886Z",
     "shell.execute_reply": "2023-11-10T22:22:45.652650Z"
    },
    "papermill": {
     "duration": 30.434922,
     "end_time": "2023-11-10T22:22:45.656862",
     "exception": false,
     "start_time": "2023-11-10T22:22:15.221940",
     "status": "completed"
    },
    "tags": []
   },
   "outputs": [],
   "source": [
    "# Tensorflow imports\n",
    "import tensorflow as tf\n",
    "import tensorflow_hub as hub\n",
    "import tensorflow_text as text\n",
    "import matplotlib.pyplot as plt\n",
    "tf.get_logger().setLevel('ERROR')\n",
    "\n",
    "\n",
    "#Model Definition\n",
    "bert_model_name = 'small_bert/bert_en_uncased_L-4_H-512_A-8'\n",
    "tfhub_handle_encoder='https://tfhub.dev/tensorflow/small_bert/bert_en_uncased_L-4_H-512_A-8/1'\n",
    "tfhub_handle_preprocess='https://tfhub.dev/tensorflow/bert_en_uncased_preprocess/3'\n",
    "\n",
    "#Model and Preprocessor Loading \n",
    "bert_preprocess_model = hub.KerasLayer(tfhub_handle_preprocess)\n",
    "bert_model = hub.KerasLayer(tfhub_handle_encoder)"
   ]
  },
  {
   "cell_type": "code",
   "execution_count": 6,
   "id": "e35e2504",
   "metadata": {
    "execution": {
     "iopub.execute_input": "2023-11-10T22:22:45.668015Z",
     "iopub.status.busy": "2023-11-10T22:22:45.667552Z",
     "iopub.status.idle": "2023-11-10T22:22:45.900142Z",
     "shell.execute_reply": "2023-11-10T22:22:45.898848Z"
    },
    "papermill": {
     "duration": 0.241255,
     "end_time": "2023-11-10T22:22:45.902777",
     "exception": false,
     "start_time": "2023-11-10T22:22:45.661522",
     "status": "completed"
    },
    "tags": []
   },
   "outputs": [
    {
     "name": "stdout",
     "output_type": "stream",
     "text": [
      "Keys       : ['input_mask', 'input_type_ids', 'input_word_ids']\n",
      "Shape      : (1, 128)\n",
      "Word Ids   : [ 101 1045 2215 2000 5438 2006 2115 4167  102    0    0    0]\n",
      "Input Mask : [1 1 1 1 1 1 1 1 1 0 0 0]\n",
      "Type Ids   : [0 0 0 0 0 0 0 0 0 0 0 0]\n"
     ]
    }
   ],
   "source": [
    "#Model PreProcessor testing\n",
    "text_test = ['I want to feed on your brain']\n",
    "text_preprocessed = bert_preprocess_model(text_test)\n",
    "print(f'Keys       : {list(text_preprocessed.keys())}')\n",
    "print(f'Shape      : {text_preprocessed[\"input_word_ids\"].shape}')\n",
    "print(f'Word Ids   : {text_preprocessed[\"input_word_ids\"][0, :12]}')\n",
    "print(f'Input Mask : {text_preprocessed[\"input_mask\"][0, :12]}')\n",
    "print(f'Type Ids   : {text_preprocessed[\"input_type_ids\"][0, :12]}')"
   ]
  },
  {
   "cell_type": "code",
   "execution_count": 7,
   "id": "f5dab903",
   "metadata": {
    "execution": {
     "iopub.execute_input": "2023-11-10T22:22:45.914311Z",
     "iopub.status.busy": "2023-11-10T22:22:45.913875Z",
     "iopub.status.idle": "2023-11-10T22:22:46.349297Z",
     "shell.execute_reply": "2023-11-10T22:22:46.347650Z"
    },
    "papermill": {
     "duration": 0.444372,
     "end_time": "2023-11-10T22:22:46.351899",
     "exception": false,
     "start_time": "2023-11-10T22:22:45.907527",
     "status": "completed"
    },
    "tags": []
   },
   "outputs": [
    {
     "name": "stdout",
     "output_type": "stream",
     "text": [
      "Loaded BERT: https://tfhub.dev/tensorflow/small_bert/bert_en_uncased_L-4_H-512_A-8/1\n",
      "Pooled Outputs Shape:(1, 512)\n",
      "Pooled Outputs Values:[ 0.9962354   0.6749504  -0.16860026  0.36463147  0.53495365  0.96207964\n",
      "  0.9170803  -0.9725614  -0.45046052 -0.99990714  0.16068594 -0.9968365 ]\n",
      "Sequence Outputs Shape:(1, 128, 512)\n",
      "Sequence Outputs Values:[[ 0.8511489   0.13193479  0.11668248 ... -1.3676022   1.1832701\n",
      "   0.3424835 ]\n",
      " [ 0.48370087  0.8548999   0.08391201 ... -0.6279737   0.47634465\n",
      "  -0.08793321]\n",
      " [ 0.8594332  -0.19526523 -1.588242   ...  0.06786477  0.4919755\n",
      "  -0.26064634]\n",
      " ...\n",
      " [ 0.295498   -0.4739734  -0.47832587 ... -0.02561095  1.2529026\n",
      "   0.49825054]\n",
      " [ 0.14580213 -0.3988193  -0.16228908 ...  0.24551383  1.2885386\n",
      "   0.2941185 ]\n",
      " [-0.07125125 -0.22631668 -0.13986346 ... -0.4194815   1.0715625\n",
      "   0.2911302 ]]\n"
     ]
    }
   ],
   "source": [
    "#Model testing\n",
    "bert_results = bert_model(text_preprocessed)\n",
    "print(f'Loaded BERT: {tfhub_handle_encoder}')\n",
    "print(f'Pooled Outputs Shape:{bert_results[\"pooled_output\"].shape}')\n",
    "print(f'Pooled Outputs Values:{bert_results[\"pooled_output\"][0, :12]}')\n",
    "print(f'Sequence Outputs Shape:{bert_results[\"sequence_output\"].shape}')\n",
    "print(f'Sequence Outputs Values:{bert_results[\"sequence_output\"][0, :12]}')\n"
   ]
  },
  {
   "cell_type": "code",
   "execution_count": 8,
   "id": "b9a9cd5c",
   "metadata": {
    "execution": {
     "iopub.execute_input": "2023-11-10T22:22:46.363330Z",
     "iopub.status.busy": "2023-11-10T22:22:46.362929Z",
     "iopub.status.idle": "2023-11-10T22:22:46.370748Z",
     "shell.execute_reply": "2023-11-10T22:22:46.369426Z"
    },
    "papermill": {
     "duration": 0.016311,
     "end_time": "2023-11-10T22:22:46.373053",
     "exception": false,
     "start_time": "2023-11-10T22:22:46.356742",
     "status": "completed"
    },
    "tags": []
   },
   "outputs": [],
   "source": [
    "#Building the Neural Network\n",
    "def build_classifier_model():\n",
    "  text_input = tf.keras.layers.Input(shape=(), dtype=tf.string, name='text')\n",
    "  preprocessing_layer = hub.KerasLayer(tfhub_handle_preprocess, name='preprocessing')\n",
    "  encoder_inputs = preprocessing_layer(text_input)\n",
    "  encoder = hub.KerasLayer(tfhub_handle_encoder, trainable=True, name='BERT_encoder')\n",
    "  outputs = encoder(encoder_inputs)\n",
    "  net = outputs['pooled_output']\n",
    "  net = tf.keras.layers.Dropout(0.1)(net)\n",
    "  net = tf.keras.layers.Dense(1, activation=None, name='classifier')(net)\n",
    "  return tf.keras.Model(text_input, net)"
   ]
  },
  {
   "cell_type": "code",
   "execution_count": 9,
   "id": "30be1718",
   "metadata": {
    "execution": {
     "iopub.execute_input": "2023-11-10T22:22:46.385181Z",
     "iopub.status.busy": "2023-11-10T22:22:46.384755Z",
     "iopub.status.idle": "2023-11-10T22:22:55.916305Z",
     "shell.execute_reply": "2023-11-10T22:22:55.915096Z"
    },
    "papermill": {
     "duration": 9.540596,
     "end_time": "2023-11-10T22:22:55.918884",
     "exception": false,
     "start_time": "2023-11-10T22:22:46.378288",
     "status": "completed"
    },
    "tags": []
   },
   "outputs": [
    {
     "data": {
      "image/png": "[encoded data removed]",
      "text/plain": [
       "<IPython.core.display.Image object>"
      ]
     },
     "execution_count": 9,
     "metadata": {},
     "output_type": "execute_result"
    }
   ],
   "source": [
    "tf.keras.utils.plot_model(build_classifier_model())"
   ]
  }
 ],
 "metadata": {
  "kernelspec": {
   "display_name": "Python 3",
   "language": "python",
   "name": "python3"
  },
  "language_info": {
   "codemirror_mode": {
    "name": "ipython",
    "version": 3
   },
   "file_extension": ".py",
   "mimetype": "text/x-python",
   "name": "python",
   "nbconvert_exporter": "python",
   "pygments_lexer": "ipython3",
   "version": "3.10.12"
  },
  "papermill": {
   "default_parameters": {},
   "duration": 49.055595,
   "end_time": "2023-11-10T22:22:58.544663",
   "environment_variables": {},
   "exception": null,
   "input_path": "__notebook__.ipynb",
   "output_path": "__notebook__.ipynb",
   "parameters": {},
   "start_time": "2023-11-10T22:22:09.489068",
   "version": "2.4.0"
  }
 },
 "nbformat": 4,
 "nbformat_minor": 5
}
