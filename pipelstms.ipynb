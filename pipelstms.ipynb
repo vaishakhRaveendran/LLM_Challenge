{
 "cells": [
  {
   "cell_type": "code",
   "execution_count": 1,
   "id": "0da65bd2",
   "metadata": {
    "_cell_guid": "b1076dfc-b9ad-4769-8c92-a6c4dae69d19",
    "_uuid": "8f2839f25d086af736a60e9eeb907d3b93b6e0e5",
    "execution": {
     "iopub.execute_input": "2023-11-12T10:02:46.724538Z",
     "iopub.status.busy": "2023-11-12T10:02:46.723999Z",
     "iopub.status.idle": "2023-11-12T10:02:47.215440Z",
     "shell.execute_reply": "2023-11-12T10:02:47.214174Z"
    },
    "papermill": {
     "duration": 0.502231,
     "end_time": "2023-11-12T10:02:47.218506",
     "exception": false,
     "start_time": "2023-11-12T10:02:46.716275",
     "status": "completed"
    },
    "tags": []
   },
   "outputs": [
    {
     "name": "stdout",
     "output_type": "stream",
     "text": [
      "/kaggle/input/malayalam-news/HackFake Database for the Hackathon - Sheet1.csv\n"
     ]
    }
   ],
   "source": [
    "# This Python 3 environment comes with many helpful analytics libraries installed\n",
    "# It is defined by the kaggle/python Docker image: https://github.com/kaggle/docker-python\n",
    "# For example, here's several helpful packages to load\n",
    "\n",
    "import numpy as np # linear algebra\n",
    "import pandas as pd # data processing, CSV file I/O (e.g. pd.read_csv)\n",
    "\n",
    "# Input data files are available in the read-only \"../input/\" directory\n",
    "# For example, running this (by clicking run or pressing Shift+Enter) will list all files under the input directory\n",
    "\n",
    "import os\n",
    "for dirname, _, filenames in os.walk('/kaggle/input'):\n",
    "    for filename in filenames:\n",
    "        print(os.path.join(dirname, filename))\n",
    "\n",
    "# You can write up to 20GB to the current directory (/kaggle/working/) that gets preserved as output when you create a version using \"Save & Run All\" \n",
    "# You can also write temporary files to /kaggle/temp/, but they won't be saved outside of the current session"
   ]
  },
  {
   "cell_type": "code",
   "execution_count": 2,
   "id": "4b224d56",
   "metadata": {
    "execution": {
     "iopub.execute_input": "2023-11-12T10:02:47.231267Z",
     "iopub.status.busy": "2023-11-12T10:02:47.230039Z",
     "iopub.status.idle": "2023-11-12T10:03:01.948546Z",
     "shell.execute_reply": "2023-11-12T10:03:01.947283Z"
    },
    "papermill": {
     "duration": 14.728002,
     "end_time": "2023-11-12T10:03:01.951595",
     "exception": false,
     "start_time": "2023-11-12T10:02:47.223593",
     "status": "completed"
    },
    "tags": []
   },
   "outputs": [],
   "source": [
    "import tensorflow as tf\n",
    "import tensorflow_hub as hub\n",
    "import tensorflow_text as text\n",
    "import matplotlib.pyplot as plt\n",
    "tf.get_logger().setLevel('ERROR')"
   ]
  },
  {
   "cell_type": "code",
   "execution_count": 3,
   "id": "65e4c04f",
   "metadata": {
    "execution": {
     "iopub.execute_input": "2023-11-12T10:03:01.985595Z",
     "iopub.status.busy": "2023-11-12T10:03:01.984548Z",
     "iopub.status.idle": "2023-11-12T10:03:02.278272Z",
     "shell.execute_reply": "2023-11-12T10:03:02.277014Z"
    },
    "papermill": {
     "duration": 0.304648,
     "end_time": "2023-11-12T10:03:02.281727",
     "exception": false,
     "start_time": "2023-11-12T10:03:01.977079",
     "status": "completed"
    },
    "tags": []
   },
   "outputs": [],
   "source": [
    "#Read dataset\n",
    "FILEPATH='/kaggle/input/malayalam-news'\n",
    "df_train=pd.read_csv(os.path.join(FILEPATH,'HackFake Database for the Hackathon - Sheet1.csv'))[:500]\n",
    "df_train = df_train.drop(['Website (source)', 'Timeline/Date','Title'], axis=1)[2:].reset_index(drop=True)\n",
    "df_train=df_train.dropna(axis=0)"
   ]
  },
  {
   "cell_type": "code",
   "execution_count": 4,
   "id": "9972aa6f",
   "metadata": {
    "execution": {
     "iopub.execute_input": "2023-11-12T10:03:02.294108Z",
     "iopub.status.busy": "2023-11-12T10:03:02.293362Z",
     "iopub.status.idle": "2023-11-12T10:03:02.304528Z",
     "shell.execute_reply": "2023-11-12T10:03:02.303348Z"
    },
    "papermill": {
     "duration": 0.020068,
     "end_time": "2023-11-12T10:03:02.307307",
     "exception": false,
     "start_time": "2023-11-12T10:03:02.287239",
     "status": "completed"
    },
    "tags": []
   },
   "outputs": [
    {
     "data": {
      "text/plain": [
       "Index(['Heading of News Article', 'Text of News Article', 'Hate speech',\n",
       "       'Misleading', 'Disinformation', 'Rumor/Hoax', 'Sensationalism',\n",
       "       'Credible'],\n",
       "      dtype='object')"
      ]
     },
     "execution_count": 4,
     "metadata": {},
     "output_type": "execute_result"
    }
   ],
   "source": [
    "df_train.columns"
   ]
  },
  {
   "cell_type": "code",
   "execution_count": 5,
   "id": "799c43ed",
   "metadata": {
    "execution": {
     "iopub.execute_input": "2023-11-12T10:03:02.319012Z",
     "iopub.status.busy": "2023-11-12T10:03:02.318202Z",
     "iopub.status.idle": "2023-11-12T10:03:03.478593Z",
     "shell.execute_reply": "2023-11-12T10:03:03.477414Z"
    },
    "papermill": {
     "duration": 1.169324,
     "end_time": "2023-11-12T10:03:03.481409",
     "exception": false,
     "start_time": "2023-11-12T10:03:02.312085",
     "status": "completed"
    },
    "tags": []
   },
   "outputs": [],
   "source": [
    "X=df_train[['Text of News Article','Heading of News Article']]\n",
    "#'Heading of News Article'\n",
    "y=df_train[['Hate speech','Misleading','Disinformation','Rumor/Hoax','Sensationalism']]\n",
    "\n",
    "from sklearn.model_selection import train_test_split\n",
    "X_train, X_test, y_train, y_test = train_test_split(X, y, test_size=0.33, random_state=42)\n",
    "y_train=np.array(y_train).astype('int')\n",
    "y_test=np.array(y_test).astype('int')"
   ]
  },
  {
   "cell_type": "code",
   "execution_count": 6,
   "id": "75a7af8f",
   "metadata": {
    "execution": {
     "iopub.execute_input": "2023-11-12T10:03:03.493341Z",
     "iopub.status.busy": "2023-11-12T10:03:03.492883Z",
     "iopub.status.idle": "2023-11-12T10:04:19.743175Z",
     "shell.execute_reply": "2023-11-12T10:04:19.741756Z"
    },
    "papermill": {
     "duration": 76.275957,
     "end_time": "2023-11-12T10:04:19.762494",
     "exception": false,
     "start_time": "2023-11-12T10:03:03.486537",
     "status": "completed"
    },
    "tags": []
   },
   "outputs": [
    {
     "name": "stdout",
     "output_type": "stream",
     "text": [
      "Model: \"model\"\n",
      "__________________________________________________________________________________________________\n",
      " Layer (type)                Output Shape                 Param #   Connected to                  \n",
      "==================================================================================================\n",
      " text_input1 (InputLayer)    [(None,)]                    0         []                            \n",
      "                                                                                                  \n",
      " text_input2 (InputLayer)    [(None,)]                    0         []                            \n",
      "                                                                                                  \n",
      " keras_layer (KerasLayer)    {'input_word_ids': (None,    0         ['text_input1[0][0]',         \n",
      "                             128),                                   'text_input2[0][0]']         \n",
      "                              'input_type_ids': (None,                                            \n",
      "                             128),                                                                \n",
      "                              'input_mask': (None, 128)                                           \n",
      "                             }                                                                    \n",
      "                                                                                                  \n",
      " keras_layer_1 (KerasLayer)  {'default': (None, 768),     4709268   ['keras_layer[0][0]',         \n",
      "                              'encoder_outputs': [(None   49         'keras_layer[0][1]',         \n",
      "                             , 128, 768),                            'keras_layer[0][2]',         \n",
      "                              (None, 128, 768),                      'keras_layer[1][0]',         \n",
      "                              (None, 128, 768),                      'keras_layer[1][1]',         \n",
      "                              (None, 128, 768),                      'keras_layer[1][2]']         \n",
      "                              (None, 128, 768),                                                   \n",
      "                              (None, 128, 768),                                                   \n",
      "                              (None, 128, 768),                                                   \n",
      "                              (None, 128, 768),                                                   \n",
      "                              (None, 128, 768),                                                   \n",
      "                              (None, 128, 768),                                                   \n",
      "                              (None, 128, 768),                                                   \n",
      "                              (None, 128, 768)],                                                  \n",
      "                              'sequence_output': (None,                                           \n",
      "                              128, 768),                                                          \n",
      "                              'pooled_output': (None, 7                                           \n",
      "                             68)}                                                                 \n",
      "                                                                                                  \n",
      " concatenate (Concatenate)   (None, 128, 1536)            0         ['keras_layer_1[0][14]',      \n",
      "                                                                     'keras_layer_1[1][14]']      \n",
      "                                                                                                  \n",
      " lstm (LSTM)                 (None, 64)                   409856    ['concatenate[0][0]']         \n",
      "                                                                                                  \n",
      " output (Dense)              (None, 5)                    325       ['lstm[0][0]']                \n",
      "                                                                                                  \n",
      "==================================================================================================\n",
      "Total params: 471337030 (1.76 GB)\n",
      "Trainable params: 410181 (1.56 MB)\n",
      "Non-trainable params: 470926849 (1.75 GB)\n",
      "__________________________________________________________________________________________________\n"
     ]
    }
   ],
   "source": [
    "import tensorflow as tf\n",
    "from tensorflow import keras\n",
    "from tensorflow.keras import regularizers,layers,Input,Model\n",
    "from tensorflow.keras.models import Sequential\n",
    "from tensorflow.keras.layers import TextVectorization,Conv1D, MaxPooling1D, LSTM, Bidirectional, Dense, BatchNormalization, Dropout\n",
    "\n",
    "#Custom CallBack and Scheduler\n",
    "early_stopping = tf.keras.callbacks.EarlyStopping(\n",
    "    patience=15,\n",
    "    min_delta=0.001,\n",
    "    restore_best_weights=True,\n",
    ")\n",
    "\n",
    "lr_schedule = tf.keras.optimizers.schedules.InverseTimeDecay(\n",
    "  0.001,\n",
    "  decay_steps=X.shape[0]*20,\n",
    "  decay_rate=1,\n",
    "  staircase=False)\n",
    "\n",
    "\n",
    "def tf_model():\n",
    "    # Input layers for two text columns\n",
    "    input_layer1 = Input(shape=(), dtype=tf.string, name='text_input1')\n",
    "    input_layer2 = Input(shape=(), dtype=tf.string, name='text_input2')\n",
    "\n",
    "    # Preprocessor layers for each text column\n",
    "    preprocessor_layer = hub.KerasLayer(\n",
    "        \"https://tfhub.dev/google/universal-sentence-encoder-cmlm/multilingual-preprocess/2\"\n",
    "    )\n",
    "    \n",
    "    preprocessed_text1 = preprocessor_layer(input_layer1)\n",
    "    preprocessed_text2 = preprocessor_layer(input_layer2)\n",
    "\n",
    "    # Encoder layers for each text column\n",
    "    encoder_layer = hub.KerasLayer(\n",
    "        \"https://tfhub.dev/google/LaBSE/2\",\n",
    "        trainable=False\n",
    "    )\n",
    "\n",
    "    embedded_text1 = encoder_layer(preprocessed_text1)[\"sequence_output\"]\n",
    "    embedded_text2 = encoder_layer(preprocessed_text2)[\"sequence_output\"]\n",
    "\n",
    "    # Concatenate the outputs of the two text columns\n",
    "    concatenated_output = layers.Concatenate()([embedded_text1, embedded_text2])\n",
    "\n",
    "    # Pass the concatenated embeddings through LSTM layer\n",
    "    lstm_layer = tf.keras.layers.LSTM(units=64, return_sequences=False)\n",
    "    lstm_output = lstm_layer(concatenated_output)\n",
    "\n",
    "    # For example, add a Dense layer for classification\n",
    "    output_layer = layers.Dense(units=5, activation='sigmoid', name='output')(lstm_output)\n",
    "\n",
    "    # Create the model with two input layers\n",
    "    model = Model(inputs=[input_layer1, input_layer2], outputs=output_layer)\n",
    "\n",
    "    return model\n",
    "\n",
    "# Create the model\n",
    "model = tf_model()\n",
    "\n",
    "# Display the model summary\n",
    "model.summary()"
   ]
  },
  {
   "cell_type": "code",
   "execution_count": 7,
   "id": "78e93d27",
   "metadata": {
    "execution": {
     "iopub.execute_input": "2023-11-12T10:04:19.784291Z",
     "iopub.status.busy": "2023-11-12T10:04:19.783035Z",
     "iopub.status.idle": "2023-11-12T10:04:19.815844Z",
     "shell.execute_reply": "2023-11-12T10:04:19.813954Z"
    },
    "papermill": {
     "duration": 0.047178,
     "end_time": "2023-11-12T10:04:19.818969",
     "exception": false,
     "start_time": "2023-11-12T10:04:19.771791",
     "status": "completed"
    },
    "tags": []
   },
   "outputs": [],
   "source": [
    "model.compile(\n",
    "        optimizer=tf.keras.optimizers.Adam(learning_rate=lr_schedule),\n",
    "        loss='binary_crossentropy',\n",
    "        metrics=['acc']\n",
    ")"
   ]
  },
  {
   "cell_type": "code",
   "execution_count": 8,
   "id": "a5676ec8",
   "metadata": {
    "execution": {
     "iopub.execute_input": "2023-11-12T10:04:19.838994Z",
     "iopub.status.busy": "2023-11-12T10:04:19.838578Z",
     "iopub.status.idle": "2023-11-12T10:04:19.845105Z",
     "shell.execute_reply": "2023-11-12T10:04:19.843739Z"
    },
    "papermill": {
     "duration": 0.020081,
     "end_time": "2023-11-12T10:04:19.848065",
     "exception": false,
     "start_time": "2023-11-12T10:04:19.827984",
     "status": "completed"
    },
    "tags": []
   },
   "outputs": [],
   "source": [
    "a0,a1=X_train['Text of News Article'],X_train['Heading of News Article']\n",
    "b0,b1=X_test['Text of News Article'],X_test['Heading of News Article']"
   ]
  },
  {
   "cell_type": "code",
   "execution_count": 9,
   "id": "5e4172cd",
   "metadata": {
    "execution": {
     "iopub.execute_input": "2023-11-12T10:04:19.869624Z",
     "iopub.status.busy": "2023-11-12T10:04:19.869197Z",
     "iopub.status.idle": "2023-11-12T10:36:58.021589Z",
     "shell.execute_reply": "2023-11-12T10:36:58.019297Z"
    },
    "papermill": {
     "duration": 1958.168693,
     "end_time": "2023-11-12T10:36:58.027506",
     "exception": false,
     "start_time": "2023-11-12T10:04:19.858813",
     "status": "completed"
    },
    "tags": []
   },
   "outputs": [
    {
     "name": "stdout",
     "output_type": "stream",
     "text": [
      "Epoch 1/7\n",
      "2/2 [==============================] - 267s 153s/step - loss: 0.7000 - acc: 0.4066 - val_loss: 0.6242 - val_acc: 0.2364\n",
      "Epoch 2/7\n",
      "2/2 [==============================] - 276s 150s/step - loss: 0.6210 - acc: 0.2349 - val_loss: 0.6132 - val_acc: 0.2364\n",
      "Epoch 3/7\n",
      "2/2 [==============================] - 313s 212s/step - loss: 0.5963 - acc: 0.2410 - val_loss: 0.6097 - val_acc: 0.2424\n",
      "Epoch 4/7\n",
      "2/2 [==============================] - 273s 173s/step - loss: 0.5805 - acc: 0.2560 - val_loss: 0.6119 - val_acc: 0.2485\n",
      "Epoch 5/7\n",
      "2/2 [==============================] - 246s 146s/step - loss: 0.5603 - acc: 0.2711 - val_loss: 0.6150 - val_acc: 0.2606\n",
      "Epoch 6/7\n",
      "2/2 [==============================] - 248s 148s/step - loss: 0.5379 - acc: 0.3012 - val_loss: 0.6180 - val_acc: 0.2727\n",
      "Epoch 7/7\n",
      "2/2 [==============================] - 334s 208s/step - loss: 0.5145 - acc: 0.3313 - val_loss: 0.6233 - val_acc: 0.2667\n"
     ]
    },
    {
     "data": {
      "text/plain": [
       "<keras.src.callbacks.History at 0x7e51e0ed2b30>"
      ]
     },
     "execution_count": 9,
     "metadata": {},
     "output_type": "execute_result"
    }
   ],
   "source": [
    "model.fit([a0,a1],y_train,epochs=7,callbacks=[early_stopping],validation_data=[[b0,b1],y_test],batch_size=200)"
   ]
  },
  {
   "cell_type": "code",
   "execution_count": null,
   "id": "edf6c181",
   "metadata": {
    "execution": {
     "iopub.execute_input": "2023-11-12T09:36:02.284412Z",
     "iopub.status.busy": "2023-11-12T09:36:02.283924Z",
     "iopub.status.idle": "2023-11-12T09:36:02.713718Z",
     "shell.execute_reply": "2023-11-12T09:36:02.712000Z",
     "shell.execute_reply.started": "2023-11-12T09:36:02.284373Z"
    },
    "papermill": {
     "duration": 0.012105,
     "end_time": "2023-11-12T10:36:58.052813",
     "exception": false,
     "start_time": "2023-11-12T10:36:58.040708",
     "status": "completed"
    },
    "tags": []
   },
   "outputs": [],
   "source": []
  }
 ],
 "metadata": {
  "kernelspec": {
   "display_name": "Python 3",
   "language": "python",
   "name": "python3"
  },
  "language_info": {
   "codemirror_mode": {
    "name": "ipython",
    "version": 3
   },
   "file_extension": ".py",
   "mimetype": "text/x-python",
   "name": "python",
   "nbconvert_exporter": "python",
   "pygments_lexer": "ipython3",
   "version": "3.10.12"
  },
  "papermill": {
   "default_parameters": {},
   "duration": 2057.839381,
   "end_time": "2023-11-12T10:37:00.976649",
   "environment_variables": {},
   "exception": null,
   "input_path": "__notebook__.ipynb",
   "output_path": "__notebook__.ipynb",
   "parameters": {},
   "start_time": "2023-11-12T10:02:43.137268",
   "version": "2.4.0"
  }
 },
 "nbformat": 4,
 "nbformat_minor": 5
}
