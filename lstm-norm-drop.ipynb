{
 "cells": [
  {
   "cell_type": "code",
   "execution_count": 1,
   "id": "9a6b6db6",
   "metadata": {
    "_cell_guid": "b1076dfc-b9ad-4769-8c92-a6c4dae69d19",
    "_uuid": "8f2839f25d086af736a60e9eeb907d3b93b6e0e5",
    "execution": {
     "iopub.execute_input": "2023-11-12T10:02:37.178494Z",
     "iopub.status.busy": "2023-11-12T10:02:37.178161Z",
     "iopub.status.idle": "2023-11-12T10:02:37.462117Z",
     "shell.execute_reply": "2023-11-12T10:02:37.460853Z"
    },
    "papermill": {
     "duration": 0.29171,
     "end_time": "2023-11-12T10:02:37.464037",
     "exception": false,
     "start_time": "2023-11-12T10:02:37.172327",
     "status": "completed"
    },
    "tags": []
   },
   "outputs": [
    {
     "name": "stdout",
     "output_type": "stream",
     "text": [
      "/kaggle/input/malayalam-news/HackFake Database for the Hackathon - Sheet1.csv\n"
     ]
    }
   ],
   "source": [
    "# This Python 3 environment comes with many helpful analytics libraries installed\n",
    "# It is defined by the kaggle/python Docker image: https://github.com/kaggle/docker-python\n",
    "# For example, here's several helpful packages to load\n",
    "\n",
    "import numpy as np # linear algebra\n",
    "import pandas as pd # data processing, CSV file I/O (e.g. pd.read_csv)\n",
    "\n",
    "# Input data files are available in the read-only \"../input/\" directory\n",
    "# For example, running this (by clicking run or pressing Shift+Enter) will list all files under the input directory\n",
    "\n",
    "import os\n",
    "for dirname, _, filenames in os.walk('/kaggle/input'):\n",
    "    for filename in filenames:\n",
    "        print(os.path.join(dirname, filename))\n",
    "\n",
    "# You can write up to 20GB to the current directory (/kaggle/working/) that gets preserved as output when you create a version using \"Save & Run All\" \n",
    "# You can also write temporary files to /kaggle/temp/, but they won't be saved outside of the current session"
   ]
  },
  {
   "cell_type": "code",
   "execution_count": 2,
   "id": "95e26d79",
   "metadata": {
    "execution": {
     "iopub.execute_input": "2023-11-12T10:02:37.474283Z",
     "iopub.status.busy": "2023-11-12T10:02:37.473137Z",
     "iopub.status.idle": "2023-11-12T10:02:49.524997Z",
     "shell.execute_reply": "2023-11-12T10:02:49.524018Z"
    },
    "papermill": {
     "duration": 12.058864,
     "end_time": "2023-11-12T10:02:49.527052",
     "exception": false,
     "start_time": "2023-11-12T10:02:37.468188",
     "status": "completed"
    },
    "tags": []
   },
   "outputs": [],
   "source": [
    "import tensorflow as tf\n",
    "import tensorflow_hub as hub\n",
    "import tensorflow_text as text\n",
    "import matplotlib.pyplot as plt\n",
    "tf.get_logger().setLevel('ERROR')"
   ]
  },
  {
   "cell_type": "code",
   "execution_count": 3,
   "id": "bbbd70a7",
   "metadata": {
    "execution": {
     "iopub.execute_input": "2023-11-12T10:02:49.536583Z",
     "iopub.status.busy": "2023-11-12T10:02:49.535525Z",
     "iopub.status.idle": "2023-11-12T10:02:49.880772Z",
     "shell.execute_reply": "2023-11-12T10:02:49.879893Z"
    },
    "papermill": {
     "duration": 0.352479,
     "end_time": "2023-11-12T10:02:49.883272",
     "exception": false,
     "start_time": "2023-11-12T10:02:49.530793",
     "status": "completed"
    },
    "tags": []
   },
   "outputs": [],
   "source": [
    "#Read dataset\n",
    "FILEPATH='/kaggle/input/malayalam-news'\n",
    "df_train=pd.read_csv(os.path.join(FILEPATH,'HackFake Database for the Hackathon - Sheet1.csv'))[:500]\n",
    "df_train = df_train.drop(['Website (source)', 'Timeline/Date','Title'], axis=1)[2:].reset_index(drop=True)\n",
    "df_train=df_train.dropna(axis=0)"
   ]
  },
  {
   "cell_type": "code",
   "execution_count": 4,
   "id": "6ebbfa51",
   "metadata": {
    "execution": {
     "iopub.execute_input": "2023-11-12T10:02:49.891951Z",
     "iopub.status.busy": "2023-11-12T10:02:49.891602Z",
     "iopub.status.idle": "2023-11-12T10:02:49.898950Z",
     "shell.execute_reply": "2023-11-12T10:02:49.897751Z"
    },
    "papermill": {
     "duration": 0.014429,
     "end_time": "2023-11-12T10:02:49.901456",
     "exception": false,
     "start_time": "2023-11-12T10:02:49.887027",
     "status": "completed"
    },
    "tags": []
   },
   "outputs": [
    {
     "data": {
      "text/plain": [
       "Index(['Heading of News Article', 'Text of News Article', 'Hate speech',\n",
       "       'Misleading', 'Disinformation', 'Rumor/Hoax', 'Sensationalism',\n",
       "       'Credible'],\n",
       "      dtype='object')"
      ]
     },
     "execution_count": 4,
     "metadata": {},
     "output_type": "execute_result"
    }
   ],
   "source": [
    "df_train.columns"
   ]
  },
  {
   "cell_type": "code",
   "execution_count": 5,
   "id": "cdc72f38",
   "metadata": {
    "execution": {
     "iopub.execute_input": "2023-11-12T10:02:49.911079Z",
     "iopub.status.busy": "2023-11-12T10:02:49.910747Z",
     "iopub.status.idle": "2023-11-12T10:02:50.937039Z",
     "shell.execute_reply": "2023-11-12T10:02:50.936077Z"
    },
    "papermill": {
     "duration": 1.03376,
     "end_time": "2023-11-12T10:02:50.939336",
     "exception": false,
     "start_time": "2023-11-12T10:02:49.905576",
     "status": "completed"
    },
    "tags": []
   },
   "outputs": [],
   "source": [
    "X=df_train[['Text of News Article']]\n",
    "#'Heading of News Article'\n",
    "y=df_train[['Hate speech','Misleading','Disinformation','Rumor/Hoax','Sensationalism']]\n",
    "\n",
    "from sklearn.model_selection import train_test_split\n",
    "X_train, X_test, y_train, y_test = train_test_split(X, y, test_size=0.33, random_state=42)\n",
    "y_train=np.array(y_train).astype('int')\n",
    "y_test=np.array(y_test).astype('int')"
   ]
  },
  {
   "cell_type": "code",
   "execution_count": 6,
   "id": "59b947a8",
   "metadata": {
    "execution": {
     "iopub.execute_input": "2023-11-12T10:02:50.948455Z",
     "iopub.status.busy": "2023-11-12T10:02:50.948125Z",
     "iopub.status.idle": "2023-11-12T10:03:17.480374Z",
     "shell.execute_reply": "2023-11-12T10:03:17.479358Z"
    },
    "papermill": {
     "duration": 26.540139,
     "end_time": "2023-11-12T10:03:17.483391",
     "exception": false,
     "start_time": "2023-11-12T10:02:50.943252",
     "status": "completed"
    },
    "tags": []
   },
   "outputs": [
    {
     "name": "stdout",
     "output_type": "stream",
     "text": [
      "Model: \"model\"\n",
      "__________________________________________________________________________________________________\n",
      " Layer (type)                Output Shape                 Param #   Connected to                  \n",
      "==================================================================================================\n",
      " text_input (InputLayer)     [(None,)]                    0         []                            \n",
      "                                                                                                  \n",
      " keras_layer (KerasLayer)    {'input_mask': (None, 128)   0         ['text_input[0][0]']          \n",
      "                             , 'input_word_ids': (None,                                           \n",
      "                              128),                                                               \n",
      "                              'input_type_ids': (None,                                            \n",
      "                             128)}                                                                \n",
      "                                                                                                  \n",
      " keras_layer_1 (KerasLayer)  {'sequence_output': (None,   4709268   ['keras_layer[0][0]',         \n",
      "                              128, 768),                  49         'keras_layer[0][1]',         \n",
      "                              'encoder_outputs': [(None              'keras_layer[0][2]']         \n",
      "                             , 128, 768),                                                         \n",
      "                              (None, 128, 768),                                                   \n",
      "                              (None, 128, 768),                                                   \n",
      "                              (None, 128, 768),                                                   \n",
      "                              (None, 128, 768),                                                   \n",
      "                              (None, 128, 768),                                                   \n",
      "                              (None, 128, 768),                                                   \n",
      "                              (None, 128, 768),                                                   \n",
      "                              (None, 128, 768),                                                   \n",
      "                              (None, 128, 768),                                                   \n",
      "                              (None, 128, 768),                                                   \n",
      "                              (None, 128, 768)],                                                  \n",
      "                              'pooled_output': (None, 7                                           \n",
      "                             68),                                                                 \n",
      "                              'default': (None, 768)}                                             \n",
      "                                                                                                  \n",
      " lstm (LSTM)                 (None, 128, 64)              213248    ['keras_layer_1[0][14]']      \n",
      "                                                                                                  \n",
      " bidirectional (Bidirection  (None, 128)                  66048     ['lstm[0][0]']                \n",
      " al)                                                                                              \n",
      "                                                                                                  \n",
      " batch_normalization (Batch  (None, 128)                  512       ['bidirectional[0][0]']       \n",
      " Normalization)                                                                                   \n",
      "                                                                                                  \n",
      " dense (Dense)               (None, 32)                   4128      ['batch_normalization[0][0]'] \n",
      "                                                                                                  \n",
      " dropout (Dropout)           (None, 32)                   0         ['dense[0][0]']               \n",
      "                                                                                                  \n",
      " dense_1 (Dense)             (None, 16)                   528       ['dropout[0][0]']             \n",
      "                                                                                                  \n",
      " output (Dense)              (None, 5)                    85        ['dense_1[0][0]']             \n",
      "                                                                                                  \n",
      "==================================================================================================\n",
      "Total params: 471211398 (1.76 GB)\n",
      "Trainable params: 284293 (1.08 MB)\n",
      "Non-trainable params: 470927105 (1.75 GB)\n",
      "__________________________________________________________________________________________________\n"
     ]
    }
   ],
   "source": [
    "import tensorflow as tf\n",
    "from tensorflow import keras\n",
    "from tensorflow.keras import regularizers,layers,Input,Model\n",
    "from tensorflow.keras.models import Sequential\n",
    "from tensorflow.keras.layers import TextVectorization,Conv1D, MaxPooling1D, LSTM, Bidirectional, Dense, BatchNormalization, Dropout\n",
    "\n",
    "#Custom CallBack and Scheduler\n",
    "early_stopping = tf.keras.callbacks.EarlyStopping(\n",
    "    patience=15,\n",
    "    min_delta=0.001,\n",
    "    restore_best_weights=True,\n",
    ")\n",
    "\n",
    "lr_schedule = tf.keras.optimizers.schedules.InverseTimeDecay(\n",
    "  0.001,\n",
    "  decay_steps=X.shape[0]*20,\n",
    "  decay_rate=1,\n",
    "  staircase=False)\n",
    "\n",
    "\n",
    "def tf_model():\n",
    "    # Input layer\n",
    "    input_layer = Input(shape=(), dtype=tf.string, name='text_input')\n",
    "\n",
    "    # Preprocessor layer\n",
    "    preprocessor_layer = hub.KerasLayer(\n",
    "        \"https://tfhub.dev/google/universal-sentence-encoder-cmlm/multilingual-preprocess/2\"\n",
    "    )\n",
    "    preprocessed_text = preprocessor_layer(input_layer)\n",
    "\n",
    "    # Encoder layer\n",
    "    encoder_layer = hub.KerasLayer(\n",
    "        \"https://tfhub.dev/google/LaBSE/2\",\n",
    "        trainable=False\n",
    "    )\n",
    "\n",
    "    embedded_text = encoder_layer(preprocessed_text)[\"sequence_output\"]\n",
    "\n",
    "    # Pass the embeddings through LSTM layer\n",
    "    lstm_layer = LSTM(units=64, return_sequences=True)(embedded_text)\n",
    "\n",
    "    # Bidirectional layer\n",
    "    bi_dir_layer = Bidirectional(LSTM(64, return_sequences=False))(lstm_layer)\n",
    "\n",
    "    # Batch normalization\n",
    "    norm_layer = BatchNormalization()(bi_dir_layer)\n",
    "\n",
    "    # Dense layer\n",
    "    den_layer = Dense(units=32, activation='relu')(norm_layer)\n",
    "\n",
    "    # Dropout layer\n",
    "    drop_layer = Dropout(0.2)(den_layer)\n",
    "\n",
    "    # Dense layer\n",
    "    penum_layer = Dense(units=16, activation='relu')(drop_layer)\n",
    "\n",
    "    # Output layer\n",
    "    output_layer = Dense(units=5, activation='sigmoid', name='output')(penum_layer)\n",
    "\n",
    "    # Create the model\n",
    "    model = tf.keras.models.Model(inputs=input_layer, outputs=output_layer)\n",
    "\n",
    "    return model\n",
    "\n",
    "# Create the model\n",
    "model = tf_model()\n",
    "\n",
    "# Display the model summary\n",
    "model.summary()"
   ]
  },
  {
   "cell_type": "code",
   "execution_count": 7,
   "id": "1966df45",
   "metadata": {
    "execution": {
     "iopub.execute_input": "2023-11-12T10:03:17.499836Z",
     "iopub.status.busy": "2023-11-12T10:03:17.499419Z",
     "iopub.status.idle": "2023-11-12T10:03:17.528573Z",
     "shell.execute_reply": "2023-11-12T10:03:17.526920Z"
    },
    "papermill": {
     "duration": 0.03999,
     "end_time": "2023-11-12T10:03:17.530876",
     "exception": false,
     "start_time": "2023-11-12T10:03:17.490886",
     "status": "completed"
    },
    "tags": []
   },
   "outputs": [],
   "source": [
    "model.compile(\n",
    "        optimizer=tf.keras.optimizers.Adam(learning_rate=lr_schedule),\n",
    "        loss='binary_crossentropy',\n",
    "        metrics=['acc']\n",
    ")"
   ]
  },
  {
   "cell_type": "code",
   "execution_count": 8,
   "id": "d1e2892e",
   "metadata": {
    "execution": {
     "iopub.execute_input": "2023-11-12T10:03:17.546350Z",
     "iopub.status.busy": "2023-11-12T10:03:17.546025Z",
     "iopub.status.idle": "2023-11-12T10:50:52.314486Z",
     "shell.execute_reply": "2023-11-12T10:50:52.312417Z"
    },
    "papermill": {
     "duration": 2854.779391,
     "end_time": "2023-11-12T10:50:52.317011",
     "exception": false,
     "start_time": "2023-11-12T10:03:17.537620",
     "status": "completed"
    },
    "tags": []
   },
   "outputs": [
    {
     "name": "stdout",
     "output_type": "stream",
     "text": [
      "Epoch 1/30\n",
      "2/2 [==============================] - 104s 56s/step - loss: 0.7494 - acc: 0.0542 - val_loss: 0.6894 - val_acc: 0.0667\n",
      "Epoch 2/30\n",
      "2/2 [==============================] - 115s 68s/step - loss: 0.6713 - acc: 0.0753 - val_loss: 0.6874 - val_acc: 0.1152\n",
      "Epoch 3/30\n",
      "2/2 [==============================] - 91s 55s/step - loss: 0.6357 - acc: 0.0994 - val_loss: 0.6872 - val_acc: 0.1576\n",
      "Epoch 4/30\n",
      "2/2 [==============================] - 91s 54s/step - loss: 0.6101 - acc: 0.1536 - val_loss: 0.6865 - val_acc: 0.1636\n",
      "Epoch 5/30\n",
      "2/2 [==============================] - 93s 56s/step - loss: 0.5794 - acc: 0.1898 - val_loss: 0.6853 - val_acc: 0.1939\n",
      "Epoch 6/30\n",
      "2/2 [==============================] - 90s 55s/step - loss: 0.5556 - acc: 0.2380 - val_loss: 0.6832 - val_acc: 0.2424\n",
      "Epoch 7/30\n",
      "2/2 [==============================] - 102s 65s/step - loss: 0.5300 - acc: 0.2319 - val_loss: 0.6827 - val_acc: 0.2303\n",
      "Epoch 8/30\n",
      "2/2 [==============================] - 108s 71s/step - loss: 0.5155 - acc: 0.2319 - val_loss: 0.6821 - val_acc: 0.2606\n",
      "Epoch 9/30\n",
      "2/2 [==============================] - 91s 55s/step - loss: 0.4839 - acc: 0.2831 - val_loss: 0.6795 - val_acc: 0.2545\n",
      "Epoch 10/30\n",
      "2/2 [==============================] - 92s 56s/step - loss: 0.4637 - acc: 0.2922 - val_loss: 0.6764 - val_acc: 0.2545\n",
      "Epoch 11/30\n",
      "2/2 [==============================] - 103s 66s/step - loss: 0.4360 - acc: 0.2801 - val_loss: 0.6728 - val_acc: 0.2667\n",
      "Epoch 12/30\n",
      "2/2 [==============================] - 91s 55s/step - loss: 0.4228 - acc: 0.3042 - val_loss: 0.6701 - val_acc: 0.2545\n",
      "Epoch 13/30\n",
      "2/2 [==============================] - 88s 53s/step - loss: 0.4030 - acc: 0.3133 - val_loss: 0.6702 - val_acc: 0.2606\n",
      "Epoch 14/30\n",
      "2/2 [==============================] - 88s 53s/step - loss: 0.3833 - acc: 0.3102 - val_loss: 0.6701 - val_acc: 0.2727\n",
      "Epoch 15/30\n",
      "2/2 [==============================] - 105s 57s/step - loss: 0.3613 - acc: 0.3434 - val_loss: 0.6705 - val_acc: 0.2545\n",
      "Epoch 16/30\n",
      "2/2 [==============================] - 91s 55s/step - loss: 0.3421 - acc: 0.3343 - val_loss: 0.6681 - val_acc: 0.2545\n",
      "Epoch 17/30\n",
      "2/2 [==============================] - 90s 54s/step - loss: 0.3278 - acc: 0.3343 - val_loss: 0.6677 - val_acc: 0.2364\n",
      "Epoch 18/30\n",
      "2/2 [==============================] - 95s 58s/step - loss: 0.3178 - acc: 0.3223 - val_loss: 0.6665 - val_acc: 0.2303\n",
      "Epoch 19/30\n",
      "2/2 [==============================] - 89s 53s/step - loss: 0.2997 - acc: 0.3133 - val_loss: 0.6656 - val_acc: 0.2364\n",
      "Epoch 20/30\n",
      "2/2 [==============================] - 101s 65s/step - loss: 0.2827 - acc: 0.3313 - val_loss: 0.6691 - val_acc: 0.2424\n",
      "Epoch 21/30\n",
      "2/2 [==============================] - 101s 65s/step - loss: 0.2645 - acc: 0.3614 - val_loss: 0.6706 - val_acc: 0.2364\n",
      "Epoch 22/30\n",
      "2/2 [==============================] - 90s 53s/step - loss: 0.2490 - acc: 0.3765 - val_loss: 0.6711 - val_acc: 0.2364\n",
      "Epoch 23/30\n",
      "2/2 [==============================] - 88s 53s/step - loss: 0.2475 - acc: 0.3554 - val_loss: 0.6768 - val_acc: 0.2424\n",
      "Epoch 24/30\n",
      "2/2 [==============================] - 89s 53s/step - loss: 0.2338 - acc: 0.3524 - val_loss: 0.6711 - val_acc: 0.2303\n",
      "Epoch 25/30\n",
      "2/2 [==============================] - 100s 65s/step - loss: 0.2179 - acc: 0.3614 - val_loss: 0.6673 - val_acc: 0.2121\n",
      "Epoch 26/30\n",
      "2/2 [==============================] - 88s 52s/step - loss: 0.2060 - acc: 0.3855 - val_loss: 0.6695 - val_acc: 0.2000\n",
      "Epoch 27/30\n",
      "2/2 [==============================] - 88s 53s/step - loss: 0.2027 - acc: 0.3645 - val_loss: 0.6852 - val_acc: 0.2121\n",
      "Epoch 28/30\n",
      "2/2 [==============================] - 106s 70s/step - loss: 0.1947 - acc: 0.3464 - val_loss: 0.7049 - val_acc: 0.2000\n",
      "Epoch 29/30\n",
      "2/2 [==============================] - 90s 54s/step - loss: 0.1910 - acc: 0.3584 - val_loss: 0.6693 - val_acc: 0.1939\n",
      "Epoch 30/30\n",
      "2/2 [==============================] - 89s 53s/step - loss: 0.1805 - acc: 0.3645 - val_loss: 0.6742 - val_acc: 0.2061\n"
     ]
    },
    {
     "data": {
      "text/plain": [
       "<keras.src.callbacks.History at 0x7978b1f0f9a0>"
      ]
     },
     "execution_count": 8,
     "metadata": {},
     "output_type": "execute_result"
    }
   ],
   "source": [
    "model.fit(X_train,y_train,epochs=30,callbacks=[early_stopping],validation_data=[X_test,y_test],batch_size=200)"
   ]
  },
  {
   "cell_type": "code",
   "execution_count": 9,
   "id": "242836f9",
   "metadata": {
    "execution": {
     "iopub.execute_input": "2023-11-12T10:50:52.348819Z",
     "iopub.status.busy": "2023-11-12T10:50:52.348312Z",
     "iopub.status.idle": "2023-11-12T10:50:54.355807Z",
     "shell.execute_reply": "2023-11-12T10:50:54.354367Z"
    },
    "papermill": {
     "duration": 2.026834,
     "end_time": "2023-11-12T10:50:54.358461",
     "exception": false,
     "start_time": "2023-11-12T10:50:52.331627",
     "status": "completed"
    },
    "tags": []
   },
   "outputs": [
    {
     "name": "stdout",
     "output_type": "stream",
     "text": [
      "1/1 [==============================] - 2s 2s/step\n"
     ]
    },
    {
     "data": {
      "text/plain": [
       "array([[0.627834  , 0.31694025, 0.16957611, 0.17945647, 0.45596096]],\n",
       "      dtype=float32)"
      ]
     },
     "execution_count": 9,
     "metadata": {},
     "output_type": "execute_result"
    }
   ],
   "source": [
    "model.predict(X_train.iloc[5])"
   ]
  },
  {
   "cell_type": "code",
   "execution_count": 10,
   "id": "38ebd46c",
   "metadata": {
    "execution": {
     "iopub.execute_input": "2023-11-12T10:50:54.389905Z",
     "iopub.status.busy": "2023-11-12T10:50:54.389478Z",
     "iopub.status.idle": "2023-11-12T10:50:54.397302Z",
     "shell.execute_reply": "2023-11-12T10:50:54.395774Z"
    },
    "papermill": {
     "duration": 0.026294,
     "end_time": "2023-11-12T10:50:54.399868",
     "exception": false,
     "start_time": "2023-11-12T10:50:54.373574",
     "status": "completed"
    },
    "tags": []
   },
   "outputs": [
    {
     "data": {
      "text/plain": [
       "array([1, 0, 0, 0, 0])"
      ]
     },
     "execution_count": 10,
     "metadata": {},
     "output_type": "execute_result"
    }
   ],
   "source": [
    "y_train[5]"
   ]
  },
  {
   "cell_type": "code",
   "execution_count": 11,
   "id": "693e5ea7",
   "metadata": {
    "execution": {
     "iopub.execute_input": "2023-11-12T10:50:54.430424Z",
     "iopub.status.busy": "2023-11-12T10:50:54.430036Z",
     "iopub.status.idle": "2023-11-12T10:50:54.741434Z",
     "shell.execute_reply": "2023-11-12T10:50:54.740621Z"
    },
    "papermill": {
     "duration": 0.328313,
     "end_time": "2023-11-12T10:50:54.743184",
     "exception": false,
     "start_time": "2023-11-12T10:50:54.414871",
     "status": "completed"
    },
    "tags": []
   },
   "outputs": [
    {
     "name": "stdout",
     "output_type": "stream",
     "text": [
      "1/1 [==============================] - 0s 268ms/step\n"
     ]
    },
    {
     "data": {
      "text/plain": [
       "array([[0.47851625, 0.34589776, 0.3252094 , 0.33971027, 0.58058125]],\n",
       "      dtype=float32)"
      ]
     },
     "execution_count": 11,
     "metadata": {},
     "output_type": "execute_result"
    }
   ],
   "source": [
    "model.predict(X_test.iloc[10])"
   ]
  },
  {
   "cell_type": "code",
   "execution_count": 12,
   "id": "68dc2559",
   "metadata": {
    "execution": {
     "iopub.execute_input": "2023-11-12T10:50:54.774593Z",
     "iopub.status.busy": "2023-11-12T10:50:54.773090Z",
     "iopub.status.idle": "2023-11-12T10:50:54.779745Z",
     "shell.execute_reply": "2023-11-12T10:50:54.778947Z"
    },
    "papermill": {
     "duration": 0.023819,
     "end_time": "2023-11-12T10:50:54.781294",
     "exception": false,
     "start_time": "2023-11-12T10:50:54.757475",
     "status": "completed"
    },
    "tags": []
   },
   "outputs": [
    {
     "data": {
      "text/plain": [
       "array([0, 0, 0, 0, 1])"
      ]
     },
     "execution_count": 12,
     "metadata": {},
     "output_type": "execute_result"
    }
   ],
   "source": [
    "y_test[10]"
   ]
  },
  {
   "cell_type": "code",
   "execution_count": 13,
   "id": "5ecd8dd4",
   "metadata": {
    "execution": {
     "iopub.execute_input": "2023-11-12T10:50:54.811074Z",
     "iopub.status.busy": "2023-11-12T10:50:54.810643Z",
     "iopub.status.idle": "2023-11-12T10:50:56.710141Z",
     "shell.execute_reply": "2023-11-12T10:50:56.709034Z"
    },
    "papermill": {
     "duration": 1.916823,
     "end_time": "2023-11-12T10:50:56.712161",
     "exception": false,
     "start_time": "2023-11-12T10:50:54.795338",
     "status": "completed"
    },
    "tags": []
   },
   "outputs": [
    {
     "name": "stdout",
     "output_type": "stream",
     "text": [
      "1/1 [==============================] - 2s 2s/step\n"
     ]
    },
    {
     "data": {
      "text/plain": [
       "array([[0.5914959 , 0.3818485 , 0.2679808 , 0.38384902, 0.62854964]],\n",
       "      dtype=float32)"
      ]
     },
     "execution_count": 13,
     "metadata": {},
     "output_type": "execute_result"
    }
   ],
   "source": [
    "model.predict([''])"
   ]
  },
  {
   "cell_type": "code",
   "execution_count": 14,
   "id": "35f61bda",
   "metadata": {
    "execution": {
     "iopub.execute_input": "2023-11-12T10:50:56.746004Z",
     "iopub.status.busy": "2023-11-12T10:50:56.744657Z",
     "iopub.status.idle": "2023-11-12T10:51:05.716610Z",
     "shell.execute_reply": "2023-11-12T10:51:05.715504Z"
    },
    "papermill": {
     "duration": 8.990725,
     "end_time": "2023-11-12T10:51:05.718892",
     "exception": false,
     "start_time": "2023-11-12T10:50:56.728167",
     "status": "completed"
    },
    "tags": []
   },
   "outputs": [],
   "source": [
    "import pickle\n",
    "filename = 'finalized_model.sav'\n",
    "pickle.dump(model, open(filename, 'wb'))"
   ]
  },
  {
   "cell_type": "code",
   "execution_count": 15,
   "id": "7d74eecd",
   "metadata": {
    "execution": {
     "iopub.execute_input": "2023-11-12T10:51:05.749627Z",
     "iopub.status.busy": "2023-11-12T10:51:05.748910Z",
     "iopub.status.idle": "2023-11-12T10:51:29.535879Z",
     "shell.execute_reply": "2023-11-12T10:51:29.534833Z"
    },
    "papermill": {
     "duration": 23.806388,
     "end_time": "2023-11-12T10:51:29.540045",
     "exception": false,
     "start_time": "2023-11-12T10:51:05.733657",
     "status": "completed"
    },
    "tags": []
   },
   "outputs": [],
   "source": [
    "model.save('model.hf')"
   ]
  }
 ],
 "metadata": {
  "kernelspec": {
   "display_name": "Python 3",
   "language": "python",
   "name": "python3"
  },
  "language_info": {
   "codemirror_mode": {
    "name": "ipython",
    "version": 3
   },
   "file_extension": ".py",
   "mimetype": "text/x-python",
   "name": "python",
   "nbconvert_exporter": "python",
   "pygments_lexer": "ipython3",
   "version": "3.10.12"
  },
  "papermill": {
   "default_parameters": {},
   "duration": 2938.613509,
   "end_time": "2023-11-12T10:51:33.242860",
   "environment_variables": {},
   "exception": null,
   "input_path": "__notebook__.ipynb",
   "output_path": "__notebook__.ipynb",
   "parameters": {},
   "start_time": "2023-11-12T10:02:34.629351",
   "version": "2.4.0"
  }
 },
 "nbformat": 4,
 "nbformat_minor": 5
}
