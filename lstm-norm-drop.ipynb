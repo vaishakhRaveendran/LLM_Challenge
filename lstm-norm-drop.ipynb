{
 "cells": [
  {
   "cell_type": "code",
   "execution_count": 1,
   "id": "afea38d0",
   "metadata": {
    "_cell_guid": "b1076dfc-b9ad-4769-8c92-a6c4dae69d19",
    "_uuid": "8f2839f25d086af736a60e9eeb907d3b93b6e0e5",
    "execution": {
     "iopub.execute_input": "2023-11-12T06:03:21.039870Z",
     "iopub.status.busy": "2023-11-12T06:03:21.039559Z",
     "iopub.status.idle": "2023-11-12T06:03:21.324738Z",
     "shell.execute_reply": "2023-11-12T06:03:21.324068Z"
    },
    "papermill": {
     "duration": 0.292166,
     "end_time": "2023-11-12T06:03:21.326549",
     "exception": false,
     "start_time": "2023-11-12T06:03:21.034383",
     "status": "completed"
    },
    "tags": []
   },
   "outputs": [
    {
     "name": "stdout",
     "output_type": "stream",
     "text": [
      "/kaggle/input/malayalam-news/HackFake Database for the Hackathon - Sheet1.csv\n"
     ]
    }
   ],
   "source": [
    "# This Python 3 environment comes with many helpful analytics libraries installed\n",
    "# It is defined by the kaggle/python Docker image: https://github.com/kaggle/docker-python\n",
    "# For example, here's several helpful packages to load\n",
    "\n",
    "import numpy as np # linear algebra\n",
    "import pandas as pd # data processing, CSV file I/O (e.g. pd.read_csv)\n",
    "\n",
    "# Input data files are available in the read-only \"../input/\" directory\n",
    "# For example, running this (by clicking run or pressing Shift+Enter) will list all files under the input directory\n",
    "\n",
    "import os\n",
    "for dirname, _, filenames in os.walk('/kaggle/input'):\n",
    "    for filename in filenames:\n",
    "        print(os.path.join(dirname, filename))\n",
    "\n",
    "# You can write up to 20GB to the current directory (/kaggle/working/) that gets preserved as output when you create a version using \"Save & Run All\" \n",
    "# You can also write temporary files to /kaggle/temp/, but they won't be saved outside of the current session"
   ]
  },
  {
   "cell_type": "code",
   "execution_count": 2,
   "id": "78b5817d",
   "metadata": {
    "execution": {
     "iopub.execute_input": "2023-11-12T06:03:21.335399Z",
     "iopub.status.busy": "2023-11-12T06:03:21.334750Z",
     "iopub.status.idle": "2023-11-12T06:03:32.795201Z",
     "shell.execute_reply": "2023-11-12T06:03:32.794186Z"
    },
    "papermill": {
     "duration": 11.4674,
     "end_time": "2023-11-12T06:03:32.797506",
     "exception": false,
     "start_time": "2023-11-12T06:03:21.330106",
     "status": "completed"
    },
    "tags": []
   },
   "outputs": [],
   "source": [
    "import tensorflow as tf\n",
    "import tensorflow_hub as hub\n",
    "import tensorflow_text as text\n",
    "import matplotlib.pyplot as plt\n",
    "tf.get_logger().setLevel('ERROR')"
   ]
  },
  {
   "cell_type": "code",
   "execution_count": 3,
   "id": "eed92fbf",
   "metadata": {
    "execution": {
     "iopub.execute_input": "2023-11-12T06:03:32.806086Z",
     "iopub.status.busy": "2023-11-12T06:03:32.805426Z",
     "iopub.status.idle": "2023-11-12T06:03:33.056192Z",
     "shell.execute_reply": "2023-11-12T06:03:33.055484Z"
    },
    "papermill": {
     "duration": 0.257338,
     "end_time": "2023-11-12T06:03:33.058316",
     "exception": false,
     "start_time": "2023-11-12T06:03:32.800978",
     "status": "completed"
    },
    "tags": []
   },
   "outputs": [],
   "source": [
    "#Read dataset\n",
    "FILEPATH='/kaggle/input/malayalam-news'\n",
    "df_train=pd.read_csv(os.path.join(FILEPATH,'HackFake Database for the Hackathon - Sheet1.csv'))[:500]\n",
    "df_train = df_train.drop(['Website (source)', 'Timeline/Date','Title'], axis=1)[2:].reset_index(drop=True)\n",
    "df_train=df_train.dropna(axis=0)"
   ]
  },
  {
   "cell_type": "code",
   "execution_count": 4,
   "id": "dbed6ee1",
   "metadata": {
    "execution": {
     "iopub.execute_input": "2023-11-12T06:03:33.070373Z",
     "iopub.status.busy": "2023-11-12T06:03:33.069619Z",
     "iopub.status.idle": "2023-11-12T06:03:33.081155Z",
     "shell.execute_reply": "2023-11-12T06:03:33.078660Z"
    },
    "papermill": {
     "duration": 0.020455,
     "end_time": "2023-11-12T06:03:33.083784",
     "exception": false,
     "start_time": "2023-11-12T06:03:33.063329",
     "status": "completed"
    },
    "tags": []
   },
   "outputs": [
    {
     "data": {
      "text/plain": [
       "Index(['Heading of News Article', 'Text of News Article', 'Hate speech',\n",
       "       'Misleading', 'Disinformation', 'Rumor/Hoax', 'Sensationalism',\n",
       "       'Credible'],\n",
       "      dtype='object')"
      ]
     },
     "execution_count": 4,
     "metadata": {},
     "output_type": "execute_result"
    }
   ],
   "source": [
    "df_train.columns"
   ]
  },
  {
   "cell_type": "code",
   "execution_count": 5,
   "id": "db73d85a",
   "metadata": {
    "execution": {
     "iopub.execute_input": "2023-11-12T06:03:33.092800Z",
     "iopub.status.busy": "2023-11-12T06:03:33.092422Z",
     "iopub.status.idle": "2023-11-12T06:03:34.069626Z",
     "shell.execute_reply": "2023-11-12T06:03:34.068455Z"
    },
    "papermill": {
     "duration": 0.984283,
     "end_time": "2023-11-12T06:03:34.071971",
     "exception": false,
     "start_time": "2023-11-12T06:03:33.087688",
     "status": "completed"
    },
    "tags": []
   },
   "outputs": [],
   "source": [
    "X=df_train[['Text of News Article']]\n",
    "#'Heading of News Article'\n",
    "y=df_train[['Hate speech','Misleading','Disinformation','Rumor/Hoax','Sensationalism']]\n",
    "\n",
    "from sklearn.model_selection import train_test_split\n",
    "X_train, X_test, y_train, y_test = train_test_split(X, y, test_size=0.33, random_state=42)\n",
    "y_train=np.array(y_train).astype('int')\n",
    "y_test=np.array(y_test).astype('int')"
   ]
  },
  {
   "cell_type": "code",
   "execution_count": 6,
   "id": "7d27d098",
   "metadata": {
    "execution": {
     "iopub.execute_input": "2023-11-12T06:03:34.080177Z",
     "iopub.status.busy": "2023-11-12T06:03:34.079841Z",
     "iopub.status.idle": "2023-11-12T06:04:27.183019Z",
     "shell.execute_reply": "2023-11-12T06:04:27.182113Z"
    },
    "papermill": {
     "duration": 53.109111,
     "end_time": "2023-11-12T06:04:27.184655",
     "exception": false,
     "start_time": "2023-11-12T06:03:34.075544",
     "status": "completed"
    },
    "tags": []
   },
   "outputs": [
    {
     "name": "stdout",
     "output_type": "stream",
     "text": [
      "Model: \"model\"\n",
      "__________________________________________________________________________________________________\n",
      " Layer (type)                Output Shape                 Param #   Connected to                  \n",
      "==================================================================================================\n",
      " text_input (InputLayer)     [(None,)]                    0         []                            \n",
      "                                                                                                  \n",
      " keras_layer (KerasLayer)    {'input_mask': (None, 128)   0         ['text_input[0][0]']          \n",
      "                             , 'input_type_ids': (None,                                           \n",
      "                              128),                                                               \n",
      "                              'input_word_ids': (None,                                            \n",
      "                             128)}                                                                \n",
      "                                                                                                  \n",
      " keras_layer_1 (KerasLayer)  {'encoder_outputs': [(None   4709268   ['keras_layer[0][0]',         \n",
      "                             , 128, 768),                 49         'keras_layer[0][1]',         \n",
      "                              (None, 128, 768),                      'keras_layer[0][2]']         \n",
      "                              (None, 128, 768),                                                   \n",
      "                              (None, 128, 768),                                                   \n",
      "                              (None, 128, 768),                                                   \n",
      "                              (None, 128, 768),                                                   \n",
      "                              (None, 128, 768),                                                   \n",
      "                              (None, 128, 768),                                                   \n",
      "                              (None, 128, 768),                                                   \n",
      "                              (None, 128, 768),                                                   \n",
      "                              (None, 128, 768),                                                   \n",
      "                              (None, 128, 768)],                                                  \n",
      "                              'sequence_output': (None,                                           \n",
      "                              128, 768),                                                          \n",
      "                              'pooled_output': (None, 7                                           \n",
      "                             68),                                                                 \n",
      "                              'default': (None, 768)}                                             \n",
      "                                                                                                  \n",
      " lstm (LSTM)                 (None, 128, 64)              213248    ['keras_layer_1[0][14]']      \n",
      "                                                                                                  \n",
      " bidirectional (Bidirection  (None, 128)                  66048     ['lstm[0][0]']                \n",
      " al)                                                                                              \n",
      "                                                                                                  \n",
      " batch_normalization (Batch  (None, 128)                  512       ['bidirectional[0][0]']       \n",
      " Normalization)                                                                                   \n",
      "                                                                                                  \n",
      " dense (Dense)               (None, 32)                   4128      ['batch_normalization[0][0]'] \n",
      "                                                                                                  \n",
      " dropout (Dropout)           (None, 32)                   0         ['dense[0][0]']               \n",
      "                                                                                                  \n",
      " dense_1 (Dense)             (None, 16)                   528       ['dropout[0][0]']             \n",
      "                                                                                                  \n",
      " output (Dense)              (None, 5)                    85        ['dense_1[0][0]']             \n",
      "                                                                                                  \n",
      "==================================================================================================\n",
      "Total params: 471211398 (1.76 GB)\n",
      "Trainable params: 284293 (1.08 MB)\n",
      "Non-trainable params: 470927105 (1.75 GB)\n",
      "__________________________________________________________________________________________________\n"
     ]
    }
   ],
   "source": [
    "import tensorflow as tf\n",
    "from tensorflow import keras\n",
    "from tensorflow.keras import regularizers,layers,Input,Model\n",
    "from tensorflow.keras.models import Sequential\n",
    "from tensorflow.keras.layers import TextVectorization,Conv1D, MaxPooling1D, LSTM, Bidirectional, Dense, BatchNormalization, Dropout\n",
    "\n",
    "#Custom CallBack and Scheduler\n",
    "early_stopping = tf.keras.callbacks.EarlyStopping(\n",
    "    patience=15,\n",
    "    min_delta=0.001,\n",
    "    restore_best_weights=True,\n",
    ")\n",
    "\n",
    "lr_schedule = tf.keras.optimizers.schedules.InverseTimeDecay(\n",
    "  0.001,\n",
    "  decay_steps=X.shape[0]*20,\n",
    "  decay_rate=1,\n",
    "  staircase=False)\n",
    "\n",
    "\n",
    "def tf_model():\n",
    "    # Input layer\n",
    "    input_layer = Input(shape=(), dtype=tf.string, name='text_input')\n",
    "\n",
    "    # Preprocessor layer\n",
    "    preprocessor_layer = hub.KerasLayer(\n",
    "        \"https://tfhub.dev/google/universal-sentence-encoder-cmlm/multilingual-preprocess/2\"\n",
    "    )\n",
    "    preprocessed_text = preprocessor_layer(input_layer)\n",
    "\n",
    "    # Encoder layer\n",
    "    encoder_layer = hub.KerasLayer(\n",
    "        \"https://tfhub.dev/google/LaBSE/2\",\n",
    "        trainable=False\n",
    "    )\n",
    "\n",
    "    embedded_text = encoder_layer(preprocessed_text)[\"sequence_output\"]\n",
    "\n",
    "    # Pass the embeddings through LSTM layer\n",
    "    lstm_layer = LSTM(units=64, return_sequences=True)(embedded_text)\n",
    "\n",
    "    # Bidirectional layer\n",
    "    bi_dir_layer = Bidirectional(LSTM(64, return_sequences=False))(lstm_layer)\n",
    "\n",
    "    # Batch normalization\n",
    "    norm_layer = BatchNormalization()(bi_dir_layer)\n",
    "\n",
    "    # Dense layer\n",
    "    den_layer = Dense(units=32, activation='relu')(norm_layer)\n",
    "\n",
    "    # Dropout layer\n",
    "    drop_layer = Dropout(0.2)(den_layer)\n",
    "\n",
    "    # Dense layer\n",
    "    penum_layer = Dense(units=16, activation='relu')(drop_layer)\n",
    "\n",
    "    # Output layer\n",
    "    output_layer = Dense(units=5, activation='sigmoid', name='output')(penum_layer)\n",
    "\n",
    "    # Create the model\n",
    "    model = tf.keras.models.Model(inputs=input_layer, outputs=output_layer)\n",
    "\n",
    "    return model\n",
    "\n",
    "# Create the model\n",
    "model = tf_model()\n",
    "\n",
    "# Display the model summary\n",
    "model.summary()"
   ]
  },
  {
   "cell_type": "code",
   "execution_count": 7,
   "id": "11afed23",
   "metadata": {
    "execution": {
     "iopub.execute_input": "2023-11-12T06:04:27.198377Z",
     "iopub.status.busy": "2023-11-12T06:04:27.198057Z",
     "iopub.status.idle": "2023-11-12T06:04:27.219677Z",
     "shell.execute_reply": "2023-11-12T06:04:27.218516Z"
    },
    "papermill": {
     "duration": 0.030414,
     "end_time": "2023-11-12T06:04:27.221426",
     "exception": false,
     "start_time": "2023-11-12T06:04:27.191012",
     "status": "completed"
    },
    "tags": []
   },
   "outputs": [],
   "source": [
    "model.compile(\n",
    "        optimizer=tf.keras.optimizers.Adam(learning_rate=lr_schedule),\n",
    "        loss='binary_crossentropy',\n",
    "        metrics=['acc']\n",
    ")"
   ]
  },
  {
   "cell_type": "code",
   "execution_count": 8,
   "id": "24ab2e7f",
   "metadata": {
    "execution": {
     "iopub.execute_input": "2023-11-12T06:04:27.235076Z",
     "iopub.status.busy": "2023-11-12T06:04:27.234738Z",
     "iopub.status.idle": "2023-11-12T06:19:56.692152Z",
     "shell.execute_reply": "2023-11-12T06:19:56.690169Z"
    },
    "papermill": {
     "duration": 929.47193,
     "end_time": "2023-11-12T06:19:56.699561",
     "exception": false,
     "start_time": "2023-11-12T06:04:27.227631",
     "status": "completed"
    },
    "tags": []
   },
   "outputs": [
    {
     "name": "stdout",
     "output_type": "stream",
     "text": [
      "Epoch 1/10\n",
      "2/2 [==============================] - 100s 54s/step - loss: 0.6951 - acc: 0.3133 - val_loss: 0.6751 - val_acc: 0.2727\n",
      "Epoch 2/10\n",
      "2/2 [==============================] - 85s 51s/step - loss: 0.6217 - acc: 0.3554 - val_loss: 0.6724 - val_acc: 0.2545\n",
      "Epoch 3/10\n",
      "2/2 [==============================] - 100s 55s/step - loss: 0.5872 - acc: 0.3886 - val_loss: 0.6702 - val_acc: 0.2303\n",
      "Epoch 4/10\n",
      "2/2 [==============================] - 100s 65s/step - loss: 0.5410 - acc: 0.3855 - val_loss: 0.6676 - val_acc: 0.2303\n",
      "Epoch 5/10\n",
      "2/2 [==============================] - 89s 54s/step - loss: 0.5131 - acc: 0.3705 - val_loss: 0.6656 - val_acc: 0.2303\n",
      "Epoch 6/10\n",
      "2/2 [==============================] - 88s 54s/step - loss: 0.4818 - acc: 0.3434 - val_loss: 0.6649 - val_acc: 0.2242\n",
      "Epoch 7/10\n",
      "2/2 [==============================] - 88s 53s/step - loss: 0.4556 - acc: 0.3705 - val_loss: 0.6640 - val_acc: 0.2303\n",
      "Epoch 8/10\n",
      "2/2 [==============================] - 88s 53s/step - loss: 0.4278 - acc: 0.3735 - val_loss: 0.6619 - val_acc: 0.2242\n",
      "Epoch 9/10\n",
      "2/2 [==============================] - 102s 67s/step - loss: 0.4116 - acc: 0.3886 - val_loss: 0.6582 - val_acc: 0.2303\n",
      "Epoch 10/10\n",
      "2/2 [==============================] - 88s 53s/step - loss: 0.3969 - acc: 0.4066 - val_loss: 0.6583 - val_acc: 0.2242\n"
     ]
    },
    {
     "data": {
      "text/plain": [
       "<keras.src.callbacks.History at 0x7cefc15c3700>"
      ]
     },
     "execution_count": 8,
     "metadata": {},
     "output_type": "execute_result"
    }
   ],
   "source": [
    "model.fit(X_train,y_train,epochs=10,callbacks=[early_stopping],validation_data=[X_test,y_test],batch_size=200)"
   ]
  },
  {
   "cell_type": "code",
   "execution_count": 9,
   "id": "a0f72add",
   "metadata": {
    "execution": {
     "iopub.execute_input": "2023-11-12T06:19:56.720453Z",
     "iopub.status.busy": "2023-11-12T06:19:56.719444Z",
     "iopub.status.idle": "2023-11-12T06:19:58.746561Z",
     "shell.execute_reply": "2023-11-12T06:19:58.745949Z"
    },
    "papermill": {
     "duration": 2.039588,
     "end_time": "2023-11-12T06:19:58.748008",
     "exception": false,
     "start_time": "2023-11-12T06:19:56.708420",
     "status": "completed"
    },
    "tags": []
   },
   "outputs": [
    {
     "name": "stdout",
     "output_type": "stream",
     "text": [
      "1/1 [==============================] - 2s 2s/step\n"
     ]
    },
    {
     "data": {
      "text/plain": [
       "array([[0.47245365, 0.3859915 , 0.39482236, 0.32087725, 0.43905604]],\n",
       "      dtype=float32)"
      ]
     },
     "execution_count": 9,
     "metadata": {},
     "output_type": "execute_result"
    }
   ],
   "source": [
    "model.predict(X_train.iloc[5])"
   ]
  },
  {
   "cell_type": "code",
   "execution_count": 10,
   "id": "f24a2c4a",
   "metadata": {
    "execution": {
     "iopub.execute_input": "2023-11-12T06:19:58.767384Z",
     "iopub.status.busy": "2023-11-12T06:19:58.767116Z",
     "iopub.status.idle": "2023-11-12T06:19:58.771516Z",
     "shell.execute_reply": "2023-11-12T06:19:58.770945Z"
    },
    "papermill": {
     "duration": 0.015976,
     "end_time": "2023-11-12T06:19:58.772852",
     "exception": false,
     "start_time": "2023-11-12T06:19:58.756876",
     "status": "completed"
    },
    "tags": []
   },
   "outputs": [
    {
     "data": {
      "text/plain": [
       "array([1, 0, 0, 0, 0])"
      ]
     },
     "execution_count": 10,
     "metadata": {},
     "output_type": "execute_result"
    }
   ],
   "source": [
    "y_train[5]"
   ]
  },
  {
   "cell_type": "code",
   "execution_count": 11,
   "id": "538e82d1",
   "metadata": {
    "execution": {
     "iopub.execute_input": "2023-11-12T06:19:58.791775Z",
     "iopub.status.busy": "2023-11-12T06:19:58.791484Z",
     "iopub.status.idle": "2023-11-12T06:19:59.066726Z",
     "shell.execute_reply": "2023-11-12T06:19:59.066106Z"
    },
    "papermill": {
     "duration": 0.286687,
     "end_time": "2023-11-12T06:19:59.068274",
     "exception": false,
     "start_time": "2023-11-12T06:19:58.781587",
     "status": "completed"
    },
    "tags": []
   },
   "outputs": [
    {
     "name": "stdout",
     "output_type": "stream",
     "text": [
      "1/1 [==============================] - 0s 233ms/step\n"
     ]
    },
    {
     "data": {
      "text/plain": [
       "array([[0.48835486, 0.46789652, 0.4641324 , 0.4580982 , 0.5362996 ]],\n",
       "      dtype=float32)"
      ]
     },
     "execution_count": 11,
     "metadata": {},
     "output_type": "execute_result"
    }
   ],
   "source": [
    "model.predict(X_test.iloc[10])"
   ]
  },
  {
   "cell_type": "code",
   "execution_count": 12,
   "id": "28805cdd",
   "metadata": {
    "execution": {
     "iopub.execute_input": "2023-11-12T06:19:59.184761Z",
     "iopub.status.busy": "2023-11-12T06:19:59.184392Z",
     "iopub.status.idle": "2023-11-12T06:19:59.189808Z",
     "shell.execute_reply": "2023-11-12T06:19:59.189243Z"
    },
    "papermill": {
     "duration": 0.017941,
     "end_time": "2023-11-12T06:19:59.191422",
     "exception": false,
     "start_time": "2023-11-12T06:19:59.173481",
     "status": "completed"
    },
    "tags": []
   },
   "outputs": [
    {
     "data": {
      "text/plain": [
       "array([0, 0, 0, 0, 1])"
      ]
     },
     "execution_count": 12,
     "metadata": {},
     "output_type": "execute_result"
    }
   ],
   "source": [
    "y_test[10]"
   ]
  },
  {
   "cell_type": "code",
   "execution_count": 13,
   "id": "aaf6e279",
   "metadata": {
    "execution": {
     "iopub.execute_input": "2023-11-12T06:19:59.212413Z",
     "iopub.status.busy": "2023-11-12T06:19:59.212101Z",
     "iopub.status.idle": "2023-11-12T06:20:01.131784Z",
     "shell.execute_reply": "2023-11-12T06:20:01.130745Z"
    },
    "papermill": {
     "duration": 1.932598,
     "end_time": "2023-11-12T06:20:01.133860",
     "exception": false,
     "start_time": "2023-11-12T06:19:59.201262",
     "status": "completed"
    },
    "tags": []
   },
   "outputs": [
    {
     "name": "stdout",
     "output_type": "stream",
     "text": [
      "1/1 [==============================] - 2s 2s/step\n"
     ]
    },
    {
     "data": {
      "text/plain": [
       "array([[0.48557222, 0.4470237 , 0.39126027, 0.37361187, 0.44724014]],\n",
       "      dtype=float32)"
      ]
     },
     "execution_count": 13,
     "metadata": {},
     "output_type": "execute_result"
    }
   ],
   "source": [
    "model.predict([''])"
   ]
  },
  {
   "cell_type": "code",
   "execution_count": 14,
   "id": "54ad7a78",
   "metadata": {
    "execution": {
     "iopub.execute_input": "2023-11-12T06:20:01.156609Z",
     "iopub.status.busy": "2023-11-12T06:20:01.156259Z",
     "iopub.status.idle": "2023-11-12T06:20:08.800958Z",
     "shell.execute_reply": "2023-11-12T06:20:08.799898Z"
    },
    "papermill": {
     "duration": 7.659326,
     "end_time": "2023-11-12T06:20:08.803453",
     "exception": false,
     "start_time": "2023-11-12T06:20:01.144127",
     "status": "completed"
    },
    "tags": []
   },
   "outputs": [],
   "source": [
    "import pickle\n",
    "filename = 'finalized_model.sav'\n",
    "pickle.dump(model, open(filename, 'wb'))"
   ]
  },
  {
   "cell_type": "code",
   "execution_count": null,
   "id": "18c5532b",
   "metadata": {
    "papermill": {
     "duration": 0.010115,
     "end_time": "2023-11-12T06:20:08.826362",
     "exception": false,
     "start_time": "2023-11-12T06:20:08.816247",
     "status": "completed"
    },
    "tags": []
   },
   "outputs": [],
   "source": []
  }
 ],
 "metadata": {
  "kernelspec": {
   "display_name": "Python 3",
   "language": "python",
   "name": "python3"
  },
  "language_info": {
   "codemirror_mode": {
    "name": "ipython",
    "version": 3
   },
   "file_extension": ".py",
   "mimetype": "text/x-python",
   "name": "python",
   "nbconvert_exporter": "python",
   "pygments_lexer": "ipython3",
   "version": "3.10.12"
  },
  "papermill": {
   "default_parameters": {},
   "duration": 1013.626553,
   "end_time": "2023-11-12T06:20:12.183184",
   "environment_variables": {},
   "exception": null,
   "input_path": "__notebook__.ipynb",
   "output_path": "__notebook__.ipynb",
   "parameters": {},
   "start_time": "2023-11-12T06:03:18.556631",
   "version": "2.4.0"
  }
 },
 "nbformat": 4,
 "nbformat_minor": 5
}
