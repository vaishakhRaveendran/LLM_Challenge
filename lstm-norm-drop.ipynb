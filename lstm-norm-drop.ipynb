{
 "cells": [
  {
   "cell_type": "code",
   "execution_count": 1,
   "id": "8e86f389",
   "metadata": {
    "_cell_guid": "b1076dfc-b9ad-4769-8c92-a6c4dae69d19",
    "_uuid": "8f2839f25d086af736a60e9eeb907d3b93b6e0e5",
    "execution": {
     "iopub.execute_input": "2023-11-12T06:49:36.335322Z",
     "iopub.status.busy": "2023-11-12T06:49:36.334938Z",
     "iopub.status.idle": "2023-11-12T06:49:36.767183Z",
     "shell.execute_reply": "2023-11-12T06:49:36.765431Z"
    },
    "papermill": {
     "duration": 0.443029,
     "end_time": "2023-11-12T06:49:36.770211",
     "exception": false,
     "start_time": "2023-11-12T06:49:36.327182",
     "status": "completed"
    },
    "tags": []
   },
   "outputs": [
    {
     "name": "stdout",
     "output_type": "stream",
     "text": [
      "/kaggle/input/malayalam-news/HackFake Database for the Hackathon - Sheet1.csv\n"
     ]
    }
   ],
   "source": [
    "# This Python 3 environment comes with many helpful analytics libraries installed\n",
    "# It is defined by the kaggle/python Docker image: https://github.com/kaggle/docker-python\n",
    "# For example, here's several helpful packages to load\n",
    "\n",
    "import numpy as np # linear algebra\n",
    "import pandas as pd # data processing, CSV file I/O (e.g. pd.read_csv)\n",
    "\n",
    "# Input data files are available in the read-only \"../input/\" directory\n",
    "# For example, running this (by clicking run or pressing Shift+Enter) will list all files under the input directory\n",
    "\n",
    "import os\n",
    "for dirname, _, filenames in os.walk('/kaggle/input'):\n",
    "    for filename in filenames:\n",
    "        print(os.path.join(dirname, filename))\n",
    "\n",
    "# You can write up to 20GB to the current directory (/kaggle/working/) that gets preserved as output when you create a version using \"Save & Run All\" \n",
    "# You can also write temporary files to /kaggle/temp/, but they won't be saved outside of the current session"
   ]
  },
  {
   "cell_type": "code",
   "execution_count": 2,
   "id": "01b086ac",
   "metadata": {
    "execution": {
     "iopub.execute_input": "2023-11-12T06:49:36.784016Z",
     "iopub.status.busy": "2023-11-12T06:49:36.783508Z",
     "iopub.status.idle": "2023-11-12T06:49:51.470940Z",
     "shell.execute_reply": "2023-11-12T06:49:51.469723Z"
    },
    "papermill": {
     "duration": 14.69763,
     "end_time": "2023-11-12T06:49:51.473879",
     "exception": false,
     "start_time": "2023-11-12T06:49:36.776249",
     "status": "completed"
    },
    "tags": []
   },
   "outputs": [],
   "source": [
    "import tensorflow as tf\n",
    "import tensorflow_hub as hub\n",
    "import tensorflow_text as text\n",
    "import matplotlib.pyplot as plt\n",
    "tf.get_logger().setLevel('ERROR')"
   ]
  },
  {
   "cell_type": "code",
   "execution_count": 3,
   "id": "800fdf7a",
   "metadata": {
    "execution": {
     "iopub.execute_input": "2023-11-12T06:49:51.488158Z",
     "iopub.status.busy": "2023-11-12T06:49:51.487430Z",
     "iopub.status.idle": "2023-11-12T06:49:51.776118Z",
     "shell.execute_reply": "2023-11-12T06:49:51.774781Z"
    },
    "papermill": {
     "duration": 0.299644,
     "end_time": "2023-11-12T06:49:51.779550",
     "exception": false,
     "start_time": "2023-11-12T06:49:51.479906",
     "status": "completed"
    },
    "tags": []
   },
   "outputs": [],
   "source": [
    "#Read dataset\n",
    "FILEPATH='/kaggle/input/malayalam-news'\n",
    "df_train=pd.read_csv(os.path.join(FILEPATH,'HackFake Database for the Hackathon - Sheet1.csv'))[:500]\n",
    "df_train = df_train.drop(['Website (source)', 'Timeline/Date','Title'], axis=1)[2:].reset_index(drop=True)\n",
    "df_train=df_train.dropna(axis=0)"
   ]
  },
  {
   "cell_type": "code",
   "execution_count": 4,
   "id": "702ebb1e",
   "metadata": {
    "execution": {
     "iopub.execute_input": "2023-11-12T06:49:51.793252Z",
     "iopub.status.busy": "2023-11-12T06:49:51.792608Z",
     "iopub.status.idle": "2023-11-12T06:49:51.803836Z",
     "shell.execute_reply": "2023-11-12T06:49:51.802602Z"
    },
    "papermill": {
     "duration": 0.020853,
     "end_time": "2023-11-12T06:49:51.806325",
     "exception": false,
     "start_time": "2023-11-12T06:49:51.785472",
     "status": "completed"
    },
    "tags": []
   },
   "outputs": [
    {
     "data": {
      "text/plain": [
       "Index(['Heading of News Article', 'Text of News Article', 'Hate speech',\n",
       "       'Misleading', 'Disinformation', 'Rumor/Hoax', 'Sensationalism',\n",
       "       'Credible'],\n",
       "      dtype='object')"
      ]
     },
     "execution_count": 4,
     "metadata": {},
     "output_type": "execute_result"
    }
   ],
   "source": [
    "df_train.columns"
   ]
  },
  {
   "cell_type": "code",
   "execution_count": 5,
   "id": "a7e30acc",
   "metadata": {
    "execution": {
     "iopub.execute_input": "2023-11-12T06:49:51.819859Z",
     "iopub.status.busy": "2023-11-12T06:49:51.819424Z",
     "iopub.status.idle": "2023-11-12T06:49:53.042234Z",
     "shell.execute_reply": "2023-11-12T06:49:53.041078Z"
    },
    "papermill": {
     "duration": 1.233484,
     "end_time": "2023-11-12T06:49:53.045603",
     "exception": false,
     "start_time": "2023-11-12T06:49:51.812119",
     "status": "completed"
    },
    "tags": []
   },
   "outputs": [],
   "source": [
    "X=df_train[['Text of News Article']]\n",
    "#'Heading of News Article'\n",
    "y=df_train[['Hate speech','Misleading','Disinformation','Rumor/Hoax','Sensationalism']]\n",
    "\n",
    "from sklearn.model_selection import train_test_split\n",
    "X_train, X_test, y_train, y_test = train_test_split(X, y, test_size=0.33, random_state=42)\n",
    "y_train=np.array(y_train).astype('int')\n",
    "y_test=np.array(y_test).astype('int')"
   ]
  },
  {
   "cell_type": "code",
   "execution_count": 6,
   "id": "f6f8dd7d",
   "metadata": {
    "execution": {
     "iopub.execute_input": "2023-11-12T06:49:53.064585Z",
     "iopub.status.busy": "2023-11-12T06:49:53.063315Z",
     "iopub.status.idle": "2023-11-12T06:51:09.382708Z",
     "shell.execute_reply": "2023-11-12T06:51:09.381234Z"
    },
    "papermill": {
     "duration": 76.342042,
     "end_time": "2023-11-12T06:51:09.396062",
     "exception": false,
     "start_time": "2023-11-12T06:49:53.054020",
     "status": "completed"
    },
    "tags": []
   },
   "outputs": [
    {
     "name": "stdout",
     "output_type": "stream",
     "text": [
      "Model: \"model\"\n",
      "__________________________________________________________________________________________________\n",
      " Layer (type)                Output Shape                 Param #   Connected to                  \n",
      "==================================================================================================\n",
      " text_input (InputLayer)     [(None,)]                    0         []                            \n",
      "                                                                                                  \n",
      " keras_layer (KerasLayer)    {'input_mask': (None, 128)   0         ['text_input[0][0]']          \n",
      "                             , 'input_type_ids': (None,                                           \n",
      "                              128),                                                               \n",
      "                              'input_word_ids': (None,                                            \n",
      "                             128)}                                                                \n",
      "                                                                                                  \n",
      " keras_layer_1 (KerasLayer)  {'encoder_outputs': [(None   4709268   ['keras_layer[0][0]',         \n",
      "                             , 128, 768),                 49         'keras_layer[0][1]',         \n",
      "                              (None, 128, 768),                      'keras_layer[0][2]']         \n",
      "                              (None, 128, 768),                                                   \n",
      "                              (None, 128, 768),                                                   \n",
      "                              (None, 128, 768),                                                   \n",
      "                              (None, 128, 768),                                                   \n",
      "                              (None, 128, 768),                                                   \n",
      "                              (None, 128, 768),                                                   \n",
      "                              (None, 128, 768),                                                   \n",
      "                              (None, 128, 768),                                                   \n",
      "                              (None, 128, 768),                                                   \n",
      "                              (None, 128, 768)],                                                  \n",
      "                              'sequence_output': (None,                                           \n",
      "                              128, 768),                                                          \n",
      "                              'default': (None, 768),                                             \n",
      "                              'pooled_output': (None, 7                                           \n",
      "                             68)}                                                                 \n",
      "                                                                                                  \n",
      " lstm (LSTM)                 (None, 128, 64)              213248    ['keras_layer_1[0][14]']      \n",
      "                                                                                                  \n",
      " bidirectional (Bidirection  (None, 128)                  66048     ['lstm[0][0]']                \n",
      " al)                                                                                              \n",
      "                                                                                                  \n",
      " batch_normalization (Batch  (None, 128)                  512       ['bidirectional[0][0]']       \n",
      " Normalization)                                                                                   \n",
      "                                                                                                  \n",
      " dense (Dense)               (None, 32)                   4128      ['batch_normalization[0][0]'] \n",
      "                                                                                                  \n",
      " dropout (Dropout)           (None, 32)                   0         ['dense[0][0]']               \n",
      "                                                                                                  \n",
      " dense_1 (Dense)             (None, 16)                   528       ['dropout[0][0]']             \n",
      "                                                                                                  \n",
      " output (Dense)              (None, 5)                    85        ['dense_1[0][0]']             \n",
      "                                                                                                  \n",
      "==================================================================================================\n",
      "Total params: 471211398 (1.76 GB)\n",
      "Trainable params: 284293 (1.08 MB)\n",
      "Non-trainable params: 470927105 (1.75 GB)\n",
      "__________________________________________________________________________________________________\n"
     ]
    }
   ],
   "source": [
    "import tensorflow as tf\n",
    "from tensorflow import keras\n",
    "from tensorflow.keras import regularizers,layers,Input,Model\n",
    "from tensorflow.keras.models import Sequential\n",
    "from tensorflow.keras.layers import TextVectorization,Conv1D, MaxPooling1D, LSTM, Bidirectional, Dense, BatchNormalization, Dropout\n",
    "\n",
    "#Custom CallBack and Scheduler\n",
    "early_stopping = tf.keras.callbacks.EarlyStopping(\n",
    "    patience=15,\n",
    "    min_delta=0.001,\n",
    "    restore_best_weights=True,\n",
    ")\n",
    "\n",
    "lr_schedule = tf.keras.optimizers.schedules.InverseTimeDecay(\n",
    "  0.001,\n",
    "  decay_steps=X.shape[0]*20,\n",
    "  decay_rate=1,\n",
    "  staircase=False)\n",
    "\n",
    "\n",
    "def tf_model():\n",
    "    # Input layer\n",
    "    input_layer = Input(shape=(), dtype=tf.string, name='text_input')\n",
    "\n",
    "    # Preprocessor layer\n",
    "    preprocessor_layer = hub.KerasLayer(\n",
    "        \"https://tfhub.dev/google/universal-sentence-encoder-cmlm/multilingual-preprocess/2\"\n",
    "    )\n",
    "    preprocessed_text = preprocessor_layer(input_layer)\n",
    "\n",
    "    # Encoder layer\n",
    "    encoder_layer = hub.KerasLayer(\n",
    "        \"https://tfhub.dev/google/LaBSE/2\",\n",
    "        trainable=False\n",
    "    )\n",
    "\n",
    "    embedded_text = encoder_layer(preprocessed_text)[\"sequence_output\"]\n",
    "\n",
    "    # Pass the embeddings through LSTM layer\n",
    "    lstm_layer = LSTM(units=64, return_sequences=True)(embedded_text)\n",
    "\n",
    "    # Bidirectional layer\n",
    "    bi_dir_layer = Bidirectional(LSTM(64, return_sequences=False))(lstm_layer)\n",
    "\n",
    "    # Batch normalization\n",
    "    norm_layer = BatchNormalization()(bi_dir_layer)\n",
    "\n",
    "    # Dense layer\n",
    "    den_layer = Dense(units=32, activation='relu')(norm_layer)\n",
    "\n",
    "    # Dropout layer\n",
    "    drop_layer = Dropout(0.2)(den_layer)\n",
    "\n",
    "    # Dense layer\n",
    "    penum_layer = Dense(units=16, activation='relu')(drop_layer)\n",
    "\n",
    "    # Output layer\n",
    "    output_layer = Dense(units=5, activation='sigmoid', name='output')(penum_layer)\n",
    "\n",
    "    # Create the model\n",
    "    model = tf.keras.models.Model(inputs=input_layer, outputs=output_layer)\n",
    "\n",
    "    return model\n",
    "\n",
    "# Create the model\n",
    "model = tf_model()\n",
    "\n",
    "# Display the model summary\n",
    "model.summary()"
   ]
  },
  {
   "cell_type": "code",
   "execution_count": 7,
   "id": "d942b2fb",
   "metadata": {
    "execution": {
     "iopub.execute_input": "2023-11-12T06:51:09.419888Z",
     "iopub.status.busy": "2023-11-12T06:51:09.419296Z",
     "iopub.status.idle": "2023-11-12T06:51:09.448272Z",
     "shell.execute_reply": "2023-11-12T06:51:09.446994Z"
    },
    "papermill": {
     "duration": 0.044556,
     "end_time": "2023-11-12T06:51:09.451076",
     "exception": false,
     "start_time": "2023-11-12T06:51:09.406520",
     "status": "completed"
    },
    "tags": []
   },
   "outputs": [],
   "source": [
    "model.compile(\n",
    "        optimizer=tf.keras.optimizers.Adam(learning_rate=lr_schedule),\n",
    "        loss='binary_crossentropy',\n",
    "        metrics=['acc']\n",
    ")"
   ]
  },
  {
   "cell_type": "code",
   "execution_count": 8,
   "id": "10b6c586",
   "metadata": {
    "execution": {
     "iopub.execute_input": "2023-11-12T06:51:09.474280Z",
     "iopub.status.busy": "2023-11-12T06:51:09.473887Z",
     "iopub.status.idle": "2023-11-12T08:06:10.505467Z",
     "shell.execute_reply": "2023-11-12T08:06:10.501560Z"
    },
    "papermill": {
     "duration": 4501.055358,
     "end_time": "2023-11-12T08:06:10.517092",
     "exception": false,
     "start_time": "2023-11-12T06:51:09.461734",
     "status": "completed"
    },
    "tags": []
   },
   "outputs": [
    {
     "name": "stdout",
     "output_type": "stream",
     "text": [
      "Epoch 1/30\n",
      "2/2 [==============================] - 159s 87s/step - loss: 0.7446 - acc: 0.1024 - val_loss: 0.6826 - val_acc: 0.1879\n",
      "Epoch 2/30\n",
      "2/2 [==============================] - 136s 82s/step - loss: 0.6493 - acc: 0.1386 - val_loss: 0.6757 - val_acc: 0.2788\n",
      "Epoch 3/30\n",
      "2/2 [==============================] - 160s 106s/step - loss: 0.5996 - acc: 0.2018 - val_loss: 0.6730 - val_acc: 0.3333\n",
      "Epoch 4/30\n",
      "2/2 [==============================] - 139s 84s/step - loss: 0.5637 - acc: 0.2530 - val_loss: 0.6693 - val_acc: 0.3273\n",
      "Epoch 5/30\n",
      "2/2 [==============================] - 176s 121s/step - loss: 0.5219 - acc: 0.2470 - val_loss: 0.6663 - val_acc: 0.3939\n",
      "Epoch 6/30\n",
      "2/2 [==============================] - 138s 84s/step - loss: 0.4829 - acc: 0.2892 - val_loss: 0.6643 - val_acc: 0.4606\n",
      "Epoch 7/30\n",
      "2/2 [==============================] - 163s 107s/step - loss: 0.4600 - acc: 0.3223 - val_loss: 0.6631 - val_acc: 0.4667\n",
      "Epoch 8/30\n",
      "2/2 [==============================] - 173s 118s/step - loss: 0.4348 - acc: 0.3133 - val_loss: 0.6624 - val_acc: 0.4545\n",
      "Epoch 9/30\n",
      "2/2 [==============================] - 138s 84s/step - loss: 0.4018 - acc: 0.3283 - val_loss: 0.6600 - val_acc: 0.4182\n",
      "Epoch 10/30\n",
      "2/2 [==============================] - 139s 84s/step - loss: 0.3861 - acc: 0.3343 - val_loss: 0.6553 - val_acc: 0.4121\n",
      "Epoch 11/30\n",
      "2/2 [==============================] - 177s 122s/step - loss: 0.3568 - acc: 0.3313 - val_loss: 0.6492 - val_acc: 0.4485\n",
      "Epoch 12/30\n",
      "2/2 [==============================] - 173s 118s/step - loss: 0.3323 - acc: 0.3614 - val_loss: 0.6482 - val_acc: 0.4848\n",
      "Epoch 13/30\n",
      "2/2 [==============================] - 136s 81s/step - loss: 0.3114 - acc: 0.3554 - val_loss: 0.6505 - val_acc: 0.4909\n",
      "Epoch 14/30\n",
      "2/2 [==============================] - 138s 84s/step - loss: 0.2826 - acc: 0.3675 - val_loss: 0.6478 - val_acc: 0.4667\n",
      "Epoch 15/30\n",
      "2/2 [==============================] - 178s 123s/step - loss: 0.2611 - acc: 0.3765 - val_loss: 0.6417 - val_acc: 0.4788\n",
      "Epoch 16/30\n",
      "2/2 [==============================] - 136s 81s/step - loss: 0.2495 - acc: 0.3524 - val_loss: 0.6443 - val_acc: 0.4788\n",
      "Epoch 17/30\n",
      "2/2 [==============================] - 136s 81s/step - loss: 0.2295 - acc: 0.3886 - val_loss: 0.6487 - val_acc: 0.4970\n",
      "Epoch 18/30\n",
      "2/2 [==============================] - 136s 81s/step - loss: 0.2105 - acc: 0.3614 - val_loss: 0.6501 - val_acc: 0.5091\n",
      "Epoch 19/30\n",
      "2/2 [==============================] - 136s 81s/step - loss: 0.1999 - acc: 0.3735 - val_loss: 0.6522 - val_acc: 0.5091\n",
      "Epoch 20/30\n",
      "2/2 [==============================] - 158s 103s/step - loss: 0.1805 - acc: 0.3614 - val_loss: 0.6557 - val_acc: 0.4909\n",
      "Epoch 21/30\n",
      "2/2 [==============================] - 137s 82s/step - loss: 0.1722 - acc: 0.3735 - val_loss: 0.6671 - val_acc: 0.5030\n",
      "Epoch 22/30\n",
      "2/2 [==============================] - 137s 82s/step - loss: 0.1546 - acc: 0.4036 - val_loss: 0.6861 - val_acc: 0.5273\n",
      "Epoch 23/30\n",
      "2/2 [==============================] - 173s 119s/step - loss: 0.1441 - acc: 0.3855 - val_loss: 0.6717 - val_acc: 0.5576\n",
      "Epoch 24/30\n",
      "2/2 [==============================] - 157s 102s/step - loss: 0.1364 - acc: 0.3825 - val_loss: 0.6774 - val_acc: 0.5333\n",
      "Epoch 25/30\n",
      "2/2 [==============================] - 136s 82s/step - loss: 0.1327 - acc: 0.3916 - val_loss: 0.6766 - val_acc: 0.4909\n",
      "Epoch 26/30\n",
      "2/2 [==============================] - 137s 81s/step - loss: 0.1232 - acc: 0.4036 - val_loss: 0.6792 - val_acc: 0.4848\n",
      "Epoch 27/30\n",
      "2/2 [==============================] - 136s 81s/step - loss: 0.1069 - acc: 0.4036 - val_loss: 0.6795 - val_acc: 0.5273\n",
      "Epoch 28/30\n",
      "2/2 [==============================] - 173s 118s/step - loss: 0.1038 - acc: 0.3916 - val_loss: 0.6928 - val_acc: 0.5455\n",
      "Epoch 29/30\n",
      "2/2 [==============================] - 147s 81s/step - loss: 0.0933 - acc: 0.3976 - val_loss: 0.7095 - val_acc: 0.5394\n",
      "Epoch 30/30\n",
      "2/2 [==============================] - 142s 87s/step - loss: 0.0948 - acc: 0.4337 - val_loss: 0.6949 - val_acc: 0.5455\n"
     ]
    },
    {
     "data": {
      "text/plain": [
       "<keras.src.callbacks.History at 0x7a7c7ab0f820>"
      ]
     },
     "execution_count": 8,
     "metadata": {},
     "output_type": "execute_result"
    }
   ],
   "source": [
    "model.fit(X_train,y_train,epochs=30,callbacks=[early_stopping],validation_data=[X_test,y_test],batch_size=200)"
   ]
  },
  {
   "cell_type": "code",
   "execution_count": 9,
   "id": "dcd7ed70",
   "metadata": {
    "execution": {
     "iopub.execute_input": "2023-11-12T08:06:10.569956Z",
     "iopub.status.busy": "2023-11-12T08:06:10.568907Z",
     "iopub.status.idle": "2023-11-12T08:06:52.330181Z",
     "shell.execute_reply": "2023-11-12T08:06:52.329046Z"
    },
    "papermill": {
     "duration": 41.809218,
     "end_time": "2023-11-12T08:06:52.348696",
     "exception": false,
     "start_time": "2023-11-12T08:06:10.539478",
     "status": "completed"
    },
    "tags": []
   },
   "outputs": [
    {
     "name": "stdout",
     "output_type": "stream",
     "text": [
      "1/1 [==============================] - 3s 3s/step\n"
     ]
    },
    {
     "data": {
      "text/plain": [
       "array([[0.5403876 , 0.30185243, 0.31478047, 0.2511711 , 0.35709497]],\n",
       "      dtype=float32)"
      ]
     },
     "execution_count": 9,
     "metadata": {},
     "output_type": "execute_result"
    }
   ],
   "source": [
    "model.predict(X_train.iloc[5])"
   ]
  },
  {
   "cell_type": "code",
   "execution_count": 10,
   "id": "b9f924bf",
   "metadata": {
    "execution": {
     "iopub.execute_input": "2023-11-12T08:06:52.395890Z",
     "iopub.status.busy": "2023-11-12T08:06:52.395424Z",
     "iopub.status.idle": "2023-11-12T08:06:52.403387Z",
     "shell.execute_reply": "2023-11-12T08:06:52.402211Z"
    },
    "papermill": {
     "duration": 0.034801,
     "end_time": "2023-11-12T08:06:52.405907",
     "exception": false,
     "start_time": "2023-11-12T08:06:52.371106",
     "status": "completed"
    },
    "tags": []
   },
   "outputs": [
    {
     "data": {
      "text/plain": [
       "array([1, 0, 0, 0, 0])"
      ]
     },
     "execution_count": 10,
     "metadata": {},
     "output_type": "execute_result"
    }
   ],
   "source": [
    "y_train[5]"
   ]
  },
  {
   "cell_type": "code",
   "execution_count": 11,
   "id": "fa768b14",
   "metadata": {
    "execution": {
     "iopub.execute_input": "2023-11-12T08:06:52.454789Z",
     "iopub.status.busy": "2023-11-12T08:06:52.454375Z",
     "iopub.status.idle": "2023-11-12T08:06:52.895121Z",
     "shell.execute_reply": "2023-11-12T08:06:52.894089Z"
    },
    "papermill": {
     "duration": 0.469044,
     "end_time": "2023-11-12T08:06:52.898030",
     "exception": false,
     "start_time": "2023-11-12T08:06:52.428986",
     "status": "completed"
    },
    "tags": []
   },
   "outputs": [
    {
     "name": "stdout",
     "output_type": "stream",
     "text": [
      "1/1 [==============================] - 0s 379ms/step\n"
     ]
    },
    {
     "data": {
      "text/plain": [
       "array([[0.5790241 , 0.61295384, 0.5748369 , 0.50388145, 0.63605136]],\n",
       "      dtype=float32)"
      ]
     },
     "execution_count": 11,
     "metadata": {},
     "output_type": "execute_result"
    }
   ],
   "source": [
    "model.predict(X_test.iloc[10])"
   ]
  },
  {
   "cell_type": "code",
   "execution_count": 12,
   "id": "38e46daf",
   "metadata": {
    "execution": {
     "iopub.execute_input": "2023-11-12T08:06:52.946682Z",
     "iopub.status.busy": "2023-11-12T08:06:52.945956Z",
     "iopub.status.idle": "2023-11-12T08:06:52.952553Z",
     "shell.execute_reply": "2023-11-12T08:06:52.951714Z"
    },
    "papermill": {
     "duration": 0.033632,
     "end_time": "2023-11-12T08:06:52.954898",
     "exception": false,
     "start_time": "2023-11-12T08:06:52.921266",
     "status": "completed"
    },
    "tags": []
   },
   "outputs": [
    {
     "data": {
      "text/plain": [
       "array([0, 0, 0, 0, 1])"
      ]
     },
     "execution_count": 12,
     "metadata": {},
     "output_type": "execute_result"
    }
   ],
   "source": [
    "y_test[10]"
   ]
  },
  {
   "cell_type": "code",
   "execution_count": 13,
   "id": "eb2d3c77",
   "metadata": {
    "execution": {
     "iopub.execute_input": "2023-11-12T08:06:53.005397Z",
     "iopub.status.busy": "2023-11-12T08:06:53.004639Z",
     "iopub.status.idle": "2023-11-12T08:06:55.816469Z",
     "shell.execute_reply": "2023-11-12T08:06:55.815608Z"
    },
    "papermill": {
     "duration": 2.840286,
     "end_time": "2023-11-12T08:06:55.819157",
     "exception": false,
     "start_time": "2023-11-12T08:06:52.978871",
     "status": "completed"
    },
    "tags": []
   },
   "outputs": [
    {
     "name": "stdout",
     "output_type": "stream",
     "text": [
      "1/1 [==============================] - 3s 3s/step\n"
     ]
    },
    {
     "data": {
      "text/plain": [
       "array([[0.48189184, 0.35262322, 0.35760635, 0.39276406, 0.42054167]],\n",
       "      dtype=float32)"
      ]
     },
     "execution_count": 13,
     "metadata": {},
     "output_type": "execute_result"
    }
   ],
   "source": [
    "model.predict([''])"
   ]
  },
  {
   "cell_type": "code",
   "execution_count": 14,
   "id": "ac31997f",
   "metadata": {
    "execution": {
     "iopub.execute_input": "2023-11-12T08:06:55.869494Z",
     "iopub.status.busy": "2023-11-12T08:06:55.868702Z",
     "iopub.status.idle": "2023-11-12T08:07:08.046511Z",
     "shell.execute_reply": "2023-11-12T08:07:08.045094Z"
    },
    "papermill": {
     "duration": 12.206561,
     "end_time": "2023-11-12T08:07:08.049860",
     "exception": false,
     "start_time": "2023-11-12T08:06:55.843299",
     "status": "completed"
    },
    "tags": []
   },
   "outputs": [],
   "source": [
    "import pickle\n",
    "filename = 'finalized_model.sav'\n",
    "pickle.dump(model, open(filename, 'wb'))"
   ]
  },
  {
   "cell_type": "code",
   "execution_count": null,
   "id": "f4fe4880",
   "metadata": {
    "papermill": {
     "duration": 0.023429,
     "end_time": "2023-11-12T08:07:08.098017",
     "exception": false,
     "start_time": "2023-11-12T08:07:08.074588",
     "status": "completed"
    },
    "tags": []
   },
   "outputs": [],
   "source": []
  }
 ],
 "metadata": {
  "kernelspec": {
   "display_name": "Python 3",
   "language": "python",
   "name": "python3"
  },
  "language_info": {
   "codemirror_mode": {
    "name": "ipython",
    "version": 3
   },
   "file_extension": ".py",
   "mimetype": "text/x-python",
   "name": "python",
   "nbconvert_exporter": "python",
   "pygments_lexer": "ipython3",
   "version": "3.10.12"
  },
  "papermill": {
   "default_parameters": {},
   "duration": 4658.127512,
   "end_time": "2023-11-12T08:07:10.966814",
   "environment_variables": {},
   "exception": null,
   "input_path": "__notebook__.ipynb",
   "output_path": "__notebook__.ipynb",
   "parameters": {},
   "start_time": "2023-11-12T06:49:32.839302",
   "version": "2.4.0"
  }
 },
 "nbformat": 4,
 "nbformat_minor": 5
}
