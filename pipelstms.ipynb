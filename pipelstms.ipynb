{
 "cells": [
  {
   "cell_type": "code",
   "execution_count": 1,
   "id": "a82f9fa1",
   "metadata": {
    "_cell_guid": "b1076dfc-b9ad-4769-8c92-a6c4dae69d19",
    "_uuid": "8f2839f25d086af736a60e9eeb907d3b93b6e0e5",
    "execution": {
     "iopub.execute_input": "2023-11-12T06:49:45.424576Z",
     "iopub.status.busy": "2023-11-12T06:49:45.424207Z",
     "iopub.status.idle": "2023-11-12T06:49:45.731964Z",
     "shell.execute_reply": "2023-11-12T06:49:45.730244Z"
    },
    "papermill": {
     "duration": 0.314938,
     "end_time": "2023-11-12T06:49:45.734385",
     "exception": false,
     "start_time": "2023-11-12T06:49:45.419447",
     "status": "completed"
    },
    "tags": []
   },
   "outputs": [
    {
     "name": "stdout",
     "output_type": "stream",
     "text": [
      "/kaggle/input/malayalam-news/HackFake Database for the Hackathon - Sheet1.csv\n"
     ]
    }
   ],
   "source": [
    "# This Python 3 environment comes with many helpful analytics libraries installed\n",
    "# It is defined by the kaggle/python Docker image: https://github.com/kaggle/docker-python\n",
    "# For example, here's several helpful packages to load\n",
    "\n",
    "import numpy as np # linear algebra\n",
    "import pandas as pd # data processing, CSV file I/O (e.g. pd.read_csv)\n",
    "\n",
    "# Input data files are available in the read-only \"../input/\" directory\n",
    "# For example, running this (by clicking run or pressing Shift+Enter) will list all files under the input directory\n",
    "\n",
    "import os\n",
    "for dirname, _, filenames in os.walk('/kaggle/input'):\n",
    "    for filename in filenames:\n",
    "        print(os.path.join(dirname, filename))\n",
    "\n",
    "# You can write up to 20GB to the current directory (/kaggle/working/) that gets preserved as output when you create a version using \"Save & Run All\" \n",
    "# You can also write temporary files to /kaggle/temp/, but they won't be saved outside of the current session"
   ]
  },
  {
   "cell_type": "code",
   "execution_count": 2,
   "id": "e2c40a57",
   "metadata": {
    "execution": {
     "iopub.execute_input": "2023-11-12T06:49:45.742290Z",
     "iopub.status.busy": "2023-11-12T06:49:45.741796Z",
     "iopub.status.idle": "2023-11-12T06:49:59.343414Z",
     "shell.execute_reply": "2023-11-12T06:49:59.342325Z"
    },
    "papermill": {
     "duration": 13.60774,
     "end_time": "2023-11-12T06:49:59.345807",
     "exception": false,
     "start_time": "2023-11-12T06:49:45.738067",
     "status": "completed"
    },
    "tags": []
   },
   "outputs": [],
   "source": [
    "import tensorflow as tf\n",
    "import tensorflow_hub as hub\n",
    "import tensorflow_text as text\n",
    "import matplotlib.pyplot as plt\n",
    "tf.get_logger().setLevel('ERROR')"
   ]
  },
  {
   "cell_type": "code",
   "execution_count": 3,
   "id": "82f565fb",
   "metadata": {
    "execution": {
     "iopub.execute_input": "2023-11-12T06:49:59.353340Z",
     "iopub.status.busy": "2023-11-12T06:49:59.352702Z",
     "iopub.status.idle": "2023-11-12T06:49:59.592107Z",
     "shell.execute_reply": "2023-11-12T06:49:59.590168Z"
    },
    "papermill": {
     "duration": 0.245933,
     "end_time": "2023-11-12T06:49:59.594661",
     "exception": false,
     "start_time": "2023-11-12T06:49:59.348728",
     "status": "completed"
    },
    "tags": []
   },
   "outputs": [],
   "source": [
    "#Read dataset\n",
    "FILEPATH='/kaggle/input/malayalam-news'\n",
    "df_train=pd.read_csv(os.path.join(FILEPATH,'HackFake Database for the Hackathon - Sheet1.csv'))[:500]\n",
    "df_train = df_train.drop(['Website (source)', 'Timeline/Date','Title'], axis=1)[2:].reset_index(drop=True)\n",
    "df_train=df_train.dropna(axis=0)"
   ]
  },
  {
   "cell_type": "code",
   "execution_count": 4,
   "id": "c4471ca5",
   "metadata": {
    "execution": {
     "iopub.execute_input": "2023-11-12T06:49:59.601607Z",
     "iopub.status.busy": "2023-11-12T06:49:59.601256Z",
     "iopub.status.idle": "2023-11-12T06:49:59.609189Z",
     "shell.execute_reply": "2023-11-12T06:49:59.608179Z"
    },
    "papermill": {
     "duration": 0.013521,
     "end_time": "2023-11-12T06:49:59.611021",
     "exception": false,
     "start_time": "2023-11-12T06:49:59.597500",
     "status": "completed"
    },
    "tags": []
   },
   "outputs": [
    {
     "data": {
      "text/plain": [
       "Index(['Heading of News Article', 'Text of News Article', 'Hate speech',\n",
       "       'Misleading', 'Disinformation', 'Rumor/Hoax', 'Sensationalism',\n",
       "       'Credible'],\n",
       "      dtype='object')"
      ]
     },
     "execution_count": 4,
     "metadata": {},
     "output_type": "execute_result"
    }
   ],
   "source": [
    "df_train.columns"
   ]
  },
  {
   "cell_type": "code",
   "execution_count": 5,
   "id": "514540e8",
   "metadata": {
    "execution": {
     "iopub.execute_input": "2023-11-12T06:49:59.618162Z",
     "iopub.status.busy": "2023-11-12T06:49:59.617759Z",
     "iopub.status.idle": "2023-11-12T06:50:00.837334Z",
     "shell.execute_reply": "2023-11-12T06:50:00.836334Z"
    },
    "papermill": {
     "duration": 1.2258,
     "end_time": "2023-11-12T06:50:00.839615",
     "exception": false,
     "start_time": "2023-11-12T06:49:59.613815",
     "status": "completed"
    },
    "tags": []
   },
   "outputs": [],
   "source": [
    "X=df_train[['Text of News Article','Heading of News Article']]\n",
    "#'Heading of News Article'\n",
    "y=df_train[['Hate speech','Misleading','Disinformation','Rumor/Hoax','Sensationalism']]\n",
    "\n",
    "from sklearn.model_selection import train_test_split\n",
    "X_train, X_test, y_train, y_test = train_test_split(X, y, test_size=0.33, random_state=42)\n",
    "y_train=np.array(y_train).astype('int')\n",
    "y_test=np.array(y_test).astype('int')"
   ]
  },
  {
   "cell_type": "code",
   "execution_count": 6,
   "id": "e21bd95a",
   "metadata": {
    "execution": {
     "iopub.execute_input": "2023-11-12T06:50:00.847846Z",
     "iopub.status.busy": "2023-11-12T06:50:00.846764Z",
     "iopub.status.idle": "2023-11-12T06:50:54.077569Z",
     "shell.execute_reply": "2023-11-12T06:50:54.076886Z"
    },
    "papermill": {
     "duration": 53.23841,
     "end_time": "2023-11-12T06:50:54.081022",
     "exception": false,
     "start_time": "2023-11-12T06:50:00.842612",
     "status": "completed"
    },
    "tags": []
   },
   "outputs": [
    {
     "name": "stdout",
     "output_type": "stream",
     "text": [
      "Model: \"model\"\n",
      "__________________________________________________________________________________________________\n",
      " Layer (type)                Output Shape                 Param #   Connected to                  \n",
      "==================================================================================================\n",
      " text_input1 (InputLayer)    [(None,)]                    0         []                            \n",
      "                                                                                                  \n",
      " text_input2 (InputLayer)    [(None,)]                    0         []                            \n",
      "                                                                                                  \n",
      " keras_layer (KerasLayer)    {'input_type_ids': (None,    0         ['text_input1[0][0]',         \n",
      "                             128),                                   'text_input2[0][0]']         \n",
      "                              'input_word_ids': (None,                                            \n",
      "                             128),                                                                \n",
      "                              'input_mask': (None, 128)                                           \n",
      "                             }                                                                    \n",
      "                                                                                                  \n",
      " keras_layer_1 (KerasLayer)  {'encoder_outputs': [(None   4709268   ['keras_layer[0][0]',         \n",
      "                             , 128, 768),                 49         'keras_layer[0][1]',         \n",
      "                              (None, 128, 768),                      'keras_layer[0][2]',         \n",
      "                              (None, 128, 768),                      'keras_layer[1][0]',         \n",
      "                              (None, 128, 768),                      'keras_layer[1][1]',         \n",
      "                              (None, 128, 768),                      'keras_layer[1][2]']         \n",
      "                              (None, 128, 768),                                                   \n",
      "                              (None, 128, 768),                                                   \n",
      "                              (None, 128, 768),                                                   \n",
      "                              (None, 128, 768),                                                   \n",
      "                              (None, 128, 768),                                                   \n",
      "                              (None, 128, 768),                                                   \n",
      "                              (None, 128, 768)],                                                  \n",
      "                              'sequence_output': (None,                                           \n",
      "                              128, 768),                                                          \n",
      "                              'pooled_output': (None, 7                                           \n",
      "                             68),                                                                 \n",
      "                              'default': (None, 768)}                                             \n",
      "                                                                                                  \n",
      " concatenate (Concatenate)   (None, 128, 1536)            0         ['keras_layer_1[0][14]',      \n",
      "                                                                     'keras_layer_1[1][14]']      \n",
      "                                                                                                  \n",
      " lstm (LSTM)                 (None, 64)                   409856    ['concatenate[0][0]']         \n",
      "                                                                                                  \n",
      " output (Dense)              (None, 5)                    325       ['lstm[0][0]']                \n",
      "                                                                                                  \n",
      "==================================================================================================\n",
      "Total params: 471337030 (1.76 GB)\n",
      "Trainable params: 410181 (1.56 MB)\n",
      "Non-trainable params: 470926849 (1.75 GB)\n",
      "__________________________________________________________________________________________________\n"
     ]
    }
   ],
   "source": [
    "import tensorflow as tf\n",
    "from tensorflow import keras\n",
    "from tensorflow.keras import regularizers,layers,Input,Model\n",
    "from tensorflow.keras.models import Sequential\n",
    "from tensorflow.keras.layers import TextVectorization,Conv1D, MaxPooling1D, LSTM, Bidirectional, Dense, BatchNormalization, Dropout\n",
    "\n",
    "#Custom CallBack and Scheduler\n",
    "early_stopping = tf.keras.callbacks.EarlyStopping(\n",
    "    patience=15,\n",
    "    min_delta=0.001,\n",
    "    restore_best_weights=True,\n",
    ")\n",
    "\n",
    "lr_schedule = tf.keras.optimizers.schedules.InverseTimeDecay(\n",
    "  0.001,\n",
    "  decay_steps=X.shape[0]*20,\n",
    "  decay_rate=1,\n",
    "  staircase=False)\n",
    "\n",
    "\n",
    "def tf_model():\n",
    "    # Input layers for two text columns\n",
    "    input_layer1 = Input(shape=(), dtype=tf.string, name='text_input1')\n",
    "    input_layer2 = Input(shape=(), dtype=tf.string, name='text_input2')\n",
    "\n",
    "    # Preprocessor layers for each text column\n",
    "    preprocessor_layer = hub.KerasLayer(\n",
    "        \"https://tfhub.dev/google/universal-sentence-encoder-cmlm/multilingual-preprocess/2\"\n",
    "    )\n",
    "    \n",
    "    preprocessed_text1 = preprocessor_layer(input_layer1)\n",
    "    preprocessed_text2 = preprocessor_layer(input_layer2)\n",
    "\n",
    "    # Encoder layers for each text column\n",
    "    encoder_layer = hub.KerasLayer(\n",
    "        \"https://tfhub.dev/google/LaBSE/2\",\n",
    "        trainable=False\n",
    "    )\n",
    "\n",
    "    embedded_text1 = encoder_layer(preprocessed_text1)[\"sequence_output\"]\n",
    "    embedded_text2 = encoder_layer(preprocessed_text2)[\"sequence_output\"]\n",
    "\n",
    "    # Concatenate the outputs of the two text columns\n",
    "    concatenated_output = layers.Concatenate()([embedded_text1, embedded_text2])\n",
    "\n",
    "    # Pass the concatenated embeddings through LSTM layer\n",
    "    lstm_layer = tf.keras.layers.LSTM(units=64, return_sequences=False)\n",
    "    lstm_output = lstm_layer(concatenated_output)\n",
    "\n",
    "    # For example, add a Dense layer for classification\n",
    "    output_layer = layers.Dense(units=5, activation='sigmoid', name='output')(lstm_output)\n",
    "\n",
    "    # Create the model with two input layers\n",
    "    model = Model(inputs=[input_layer1, input_layer2], outputs=output_layer)\n",
    "\n",
    "    return model\n",
    "\n",
    "# Create the model\n",
    "model = tf_model()\n",
    "\n",
    "# Display the model summary\n",
    "model.summary()"
   ]
  },
  {
   "cell_type": "code",
   "execution_count": 7,
   "id": "7cbe5d05",
   "metadata": {
    "execution": {
     "iopub.execute_input": "2023-11-12T06:50:54.093853Z",
     "iopub.status.busy": "2023-11-12T06:50:54.093455Z",
     "iopub.status.idle": "2023-11-12T06:50:54.120215Z",
     "shell.execute_reply": "2023-11-12T06:50:54.118733Z"
    },
    "papermill": {
     "duration": 0.035881,
     "end_time": "2023-11-12T06:50:54.122561",
     "exception": false,
     "start_time": "2023-11-12T06:50:54.086680",
     "status": "completed"
    },
    "tags": []
   },
   "outputs": [],
   "source": [
    "model.compile(\n",
    "        optimizer=tf.keras.optimizers.Adam(learning_rate=lr_schedule),\n",
    "        loss='binary_crossentropy',\n",
    "        metrics=['acc']\n",
    ")"
   ]
  },
  {
   "cell_type": "code",
   "execution_count": 8,
   "id": "2e904bbf",
   "metadata": {
    "execution": {
     "iopub.execute_input": "2023-11-12T06:50:54.135061Z",
     "iopub.status.busy": "2023-11-12T06:50:54.134670Z",
     "iopub.status.idle": "2023-11-12T06:50:54.140247Z",
     "shell.execute_reply": "2023-11-12T06:50:54.139109Z"
    },
    "papermill": {
     "duration": 0.01395,
     "end_time": "2023-11-12T06:50:54.142137",
     "exception": false,
     "start_time": "2023-11-12T06:50:54.128187",
     "status": "completed"
    },
    "tags": []
   },
   "outputs": [],
   "source": [
    "a0,a1=X_train['Text of News Article'],X_train['Heading of News Article']\n",
    "b0,b1=X_test['Text of News Article'],X_test['Heading of News Article']"
   ]
  },
  {
   "cell_type": "code",
   "execution_count": 9,
   "id": "3e640436",
   "metadata": {
    "execution": {
     "iopub.execute_input": "2023-11-12T06:50:54.154730Z",
     "iopub.status.busy": "2023-11-12T06:50:54.154358Z",
     "iopub.status.idle": "2023-11-12T07:10:31.536736Z",
     "shell.execute_reply": "2023-11-12T07:10:31.535053Z"
    },
    "papermill": {
     "duration": 1177.39182,
     "end_time": "2023-11-12T07:10:31.539364",
     "exception": false,
     "start_time": "2023-11-12T06:50:54.147544",
     "status": "completed"
    },
    "tags": []
   },
   "outputs": [
    {
     "name": "stdout",
     "output_type": "stream",
     "text": [
      "Epoch 1/7\n",
      "2/2 [==============================] - 169s 96s/step - loss: 0.6884 - acc: 0.1446 - val_loss: 0.6173 - val_acc: 0.2303\n",
      "Epoch 2/7\n",
      "2/2 [==============================] - 179s 98s/step - loss: 0.6210 - acc: 0.2380 - val_loss: 0.6036 - val_acc: 0.2364\n",
      "Epoch 3/7\n",
      "2/2 [==============================] - 160s 96s/step - loss: 0.5907 - acc: 0.2349 - val_loss: 0.5992 - val_acc: 0.2364\n",
      "Epoch 4/7\n",
      "2/2 [==============================] - 161s 97s/step - loss: 0.5670 - acc: 0.2500 - val_loss: 0.6041 - val_acc: 0.2545\n",
      "Epoch 5/7\n",
      "2/2 [==============================] - 189s 125s/step - loss: 0.5471 - acc: 0.2952 - val_loss: 0.6045 - val_acc: 0.2727\n",
      "Epoch 6/7\n",
      "2/2 [==============================] - 160s 95s/step - loss: 0.5192 - acc: 0.3072 - val_loss: 0.6096 - val_acc: 0.2788\n",
      "Epoch 7/7\n",
      "2/2 [==============================] - 159s 95s/step - loss: 0.4869 - acc: 0.3253 - val_loss: 0.6160 - val_acc: 0.2788\n"
     ]
    },
    {
     "data": {
      "text/plain": [
       "<keras.src.callbacks.History at 0x7dc693ed9ae0>"
      ]
     },
     "execution_count": 9,
     "metadata": {},
     "output_type": "execute_result"
    }
   ],
   "source": [
    "model.fit([a0,a1],y_train,epochs=7,callbacks=[early_stopping],validation_data=[[b0,b1],y_test],batch_size=200)"
   ]
  }
 ],
 "metadata": {
  "kernelspec": {
   "display_name": "Python 3",
   "language": "python",
   "name": "python3"
  },
  "language_info": {
   "codemirror_mode": {
    "name": "ipython",
    "version": 3
   },
   "file_extension": ".py",
   "mimetype": "text/x-python",
   "name": "python",
   "nbconvert_exporter": "python",
   "pygments_lexer": "ipython3",
   "version": "3.10.12"
  },
  "papermill": {
   "default_parameters": {},
   "duration": 1251.877577,
   "end_time": "2023-11-12T07:10:34.666333",
   "environment_variables": {},
   "exception": null,
   "input_path": "__notebook__.ipynb",
   "output_path": "__notebook__.ipynb",
   "parameters": {},
   "start_time": "2023-11-12T06:49:42.788756",
   "version": "2.4.0"
  }
 },
 "nbformat": 4,
 "nbformat_minor": 5
}
